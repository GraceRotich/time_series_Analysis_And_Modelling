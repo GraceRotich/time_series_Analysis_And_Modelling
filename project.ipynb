{
 "cells": [
  {
   "cell_type": "markdown",
   "metadata": {},
   "source": [
    "## Final Project Submission\n",
    "\n",
    "* Student name: Solphine Joseph, Grace Rotich, Mathew Kiprotich, Hilary Simiyu, Clyde Ochieng\n",
    "* Student pace:  full time\n",
    "* Scheduled project review date/time: \n",
    "* Instructor name: Nikita Njoroge\n",
    "* Blog post URL"
   ]
  },
  {
   "cell_type": "markdown",
   "metadata": {},
   "source": [
    "# Time Series Modeling Project"
   ]
  },
  {
   "cell_type": "markdown",
   "metadata": {},
   "source": [
    "## a)Business Understanding "
   ]
  },
  {
   "cell_type": "markdown",
   "metadata": {},
   "source": [
    "#### *Overview:*\n",
    "\n",
    "The real estate market presents a dynamic and complex investment landscape, where the value of investments can significantly impact the financial well-being of investors. Identifying lucrative investment opportunities requires analyzing vast amounts of historical data to predict future trends, with the inherent volatility and regional diversity of the real estate market. Investors seek to maximize returns while managing the risks associated with market fluctuations and regional economic changes.The primary stakeholder in this project is Prime Nest Investment real-estate company which is  focused on identifying  the top 5 zip codes for real estate investment and optimizing their portflolios permomance by selecting regions with the highest potential for growth and stability.\n",
    "\n",
    "\n",
    "#### *Problem Statement:*\n",
    "\n",
    "The core challenge faced by PrimeNest Investments is the difficulty in accurately forecasting real estate prices across various zip codes, taking into account factors like profit margins, risk and investment horizons. The firm needs to navigate through the ambiguity and complexity of the real estate market to identify zip codes that promise the best returns on investment, balanced with an acceptable level of risk.\n",
    "By leveraging historical real estate price data from Zillow Research and employing time series modeling, PrimeNest Investments seeks a comprehensive analysis and recommendation to facilitate informed decision-making and strategic expansion of their investment portfolio.\n",
    "\n",
    "\n",
    "#### *Challenges:*\n",
    "\n",
    "- *Historical Data Only*: The dataset does not include future or real-time data, limiting the analysis to historical trends and necessitating assumptions about future market behavior.\n",
    "- *Lack of External Factors*: External economic indicators such as interest rates, employment rates and GDP growth which can significantly influence real estate prices are not included. This absence might limit the comprehensiveness of the forecast.\n",
    "- *Missing Values*: Any missing data could affect the analysis's accuracy.\n",
    "\n",
    "\n",
    "#### *Objectives*\n",
    "\n",
    "- To provide a data-driven basis for investment decisions with a model having accuracy of 80%.\n",
    "- To identify zip codes with the highest potential for appreciation, thereby maximizing ROI.\n",
    "- To offer insights into market trends, enabling stakeholders to manage risks better and align investments with long-term financial goals.\n",
    "\n",
    "PrimeNest Investments will use the project's findings to focus their investment portfolio on zip codes with the best potential. Market analysts, financial advisors, and individual investors can leverage these insights for making informed real estate decisions. Beyond identifying investment opportunities, the project enhances understanding of real estate market dynamics and equips stakeholders with actionable insights to navigate investment complexities, thereby supporting their financial goals.\n",
    "\n",
    "#### *Conclusion:*\n",
    "\n",
    "PrimeNest Investments will use the project's findings to focus their investment portfolio on zip codes with the best potential. Market analysts, financial advisors, and individual investors can leverage these insights for making informed real estate decisions. Beyond identifying investment opportunities, the project enhances understanding of real estate market dynamics and equips stakeholders with actionable insights to navigate investment complexities, thereby supporting their financial goals.\n"
   ]
  },
  {
   "cell_type": "markdown",
   "metadata": {},
   "source": [
    "## b) Data Understanding \n",
    "\n",
    "*Data Source and Suitability:*\n",
    "\n",
    "The dataset is sourced from Zillow Research('https://www.zillow.com/research/data'), a reputable provider of historical real estate market data. It encompasses historical home values across various zip codes in the United States, spanning from April 1996 to April 2018. This dataset is particularly suited for the project due to its comprehensive coverage of the real estate market over two decades, offering a rich foundation for analyzing trends, forecasting future real estate prices, and identifying promising investment opportunities.\n",
    "\n",
    "*Dataset Properties:*\n",
    "\n",
    "- *Size of the Dataset*: The dataset consists of 14,723 entries (rows) and 272 columns. Each entry represents a unique zip code.\n",
    "The column names are as follows:\n",
    "\n",
    "| Field Name | Description |\n",
    "|---|---|\n",
    "| RegionID | A unique identifier for each region or zip code. |\n",
    "| RegionName | The name of the region, which typically corresponds to the zip code. |\n",
    "| City | The city where the region is located. |\n",
    "| State | The state where the region is located. |\n",
    "| Metro | The metropolitan area that the region is part of. |\n",
    "| CountyName | The county where the region is located. |\n",
    "| SizeRank | A ranking of the region based on its size or importance, with 1 being the largest or most significant. |\n",
    "| Date | The date of the recorded real estate price |\n",
    "| Price | The real estate price recorded for that region and date. |\n",
    "\n",
    "\n"
   ]
  },
  {
   "cell_type": "code",
   "execution_count": 3,
   "metadata": {},
   "outputs": [],
   "source": [
    "# importing relevant libraries\n",
    "\n",
    "# Analysis libraries\n",
    "import pandas as pd \n",
    "import numpy as np\n",
    "\n",
    "# Visualization libraries\n",
    "import matplotlib.pyplot as plt\n",
    "%matplotlib inline\n",
    "import seaborn as sns\n",
    "from statsmodels.tsa.seasonal import seasonal_decompose\n",
    "from pandas.plotting import register_matplotlib_converters\n",
    "register_matplotlib_converters()\n",
    "\n",
    "# Warning libraries\n",
    "import warnings\n",
    "warnings.simplefilter(\"ignore\")\n",
    "warnings.filterwarnings('ignore')\n",
    "\n",
    "#import the classes from the functions module\n",
    "from functions import Data_Loader, Data_Informer, DataCleaner, DataPreparer, TimeSeriesAnalyzer , Modeling, Evaluation\n"
   ]
  },
  {
   "cell_type": "markdown",
   "metadata": {},
   "source": [
    "Create an Instance of the classes to be used"
   ]
  },
  {
   "cell_type": "code",
   "execution_count": 4,
   "metadata": {},
   "outputs": [],
   "source": [
    "loader = Data_Loader()\n",
    "\n",
    "informer = Data_Informer()\n",
    "\n",
    "modeler = Modeling()\n",
    "\n",
    "evaluator = Evaluation()\n"
   ]
  },
  {
   "cell_type": "code",
   "execution_count": 5,
   "metadata": {},
   "outputs": [
    {
     "name": "stdout",
     "output_type": "stream",
     "text": [
      "\n",
      "Shape of the dataset:\n",
      "(14723, 272)\n",
      "\n",
      "Information about the Dataset:\n",
      "<class 'pandas.core.frame.DataFrame'>\n",
      "RangeIndex: 14723 entries, 0 to 14722\n",
      "Columns: 272 entries, RegionID to 2018-04\n",
      "dtypes: float64(219), int64(49), object(4)\n",
      "memory usage: 30.6+ MB\n",
      "None\n",
      "\n",
      "Columns and their data types:\n",
      "RegionID: int64\n",
      "RegionName: int64\n",
      "City: object\n",
      "State: object\n",
      "Metro: object\n",
      "CountyName: object\n",
      "SizeRank: int64\n",
      "1996-04: float64\n",
      "1996-05: float64\n",
      "1996-06: float64\n",
      "1996-07: float64\n",
      "1996-08: float64\n",
      "1996-09: float64\n",
      "1996-10: float64\n",
      "1996-11: float64\n",
      "1996-12: float64\n",
      "1997-01: float64\n",
      "1997-02: float64\n",
      "1997-03: float64\n",
      "1997-04: float64\n",
      "1997-05: float64\n",
      "1997-06: float64\n",
      "1997-07: float64\n",
      "1997-08: float64\n",
      "1997-09: float64\n",
      "1997-10: float64\n",
      "1997-11: float64\n",
      "1997-12: float64\n",
      "1998-01: float64\n",
      "1998-02: float64\n",
      "1998-03: float64\n",
      "1998-04: float64\n",
      "1998-05: float64\n",
      "1998-06: float64\n",
      "1998-07: float64\n",
      "1998-08: float64\n",
      "1998-09: float64\n",
      "1998-10: float64\n",
      "1998-11: float64\n",
      "1998-12: float64\n",
      "1999-01: float64\n",
      "1999-02: float64\n",
      "1999-03: float64\n",
      "1999-04: float64\n",
      "1999-05: float64\n",
      "1999-06: float64\n",
      "1999-07: float64\n",
      "1999-08: float64\n",
      "1999-09: float64\n",
      "1999-10: float64\n",
      "1999-11: float64\n",
      "1999-12: float64\n",
      "2000-01: float64\n",
      "2000-02: float64\n",
      "2000-03: float64\n",
      "2000-04: float64\n",
      "2000-05: float64\n",
      "2000-06: float64\n",
      "2000-07: float64\n",
      "2000-08: float64\n",
      "2000-09: float64\n",
      "2000-10: float64\n",
      "2000-11: float64\n",
      "2000-12: float64\n",
      "2001-01: float64\n",
      "2001-02: float64\n",
      "2001-03: float64\n",
      "2001-04: float64\n",
      "2001-05: float64\n",
      "2001-06: float64\n",
      "2001-07: float64\n",
      "2001-08: float64\n",
      "2001-09: float64\n",
      "2001-10: float64\n",
      "2001-11: float64\n",
      "2001-12: float64\n",
      "2002-01: float64\n",
      "2002-02: float64\n",
      "2002-03: float64\n",
      "2002-04: float64\n",
      "2002-05: float64\n",
      "2002-06: float64\n",
      "2002-07: float64\n",
      "2002-08: float64\n",
      "2002-09: float64\n",
      "2002-10: float64\n",
      "2002-11: float64\n",
      "2002-12: float64\n",
      "2003-01: float64\n",
      "2003-02: float64\n",
      "2003-03: float64\n",
      "2003-04: float64\n",
      "2003-05: float64\n",
      "2003-06: float64\n",
      "2003-07: float64\n",
      "2003-08: float64\n",
      "2003-09: float64\n",
      "2003-10: float64\n",
      "2003-11: float64\n",
      "2003-12: float64\n",
      "2004-01: float64\n",
      "2004-02: float64\n",
      "2004-03: float64\n",
      "2004-04: float64\n",
      "2004-05: float64\n",
      "2004-06: float64\n",
      "2004-07: float64\n",
      "2004-08: float64\n",
      "2004-09: float64\n",
      "2004-10: float64\n",
      "2004-11: float64\n",
      "2004-12: float64\n",
      "2005-01: float64\n",
      "2005-02: float64\n",
      "2005-03: float64\n",
      "2005-04: float64\n",
      "2005-05: float64\n",
      "2005-06: float64\n",
      "2005-07: float64\n",
      "2005-08: float64\n",
      "2005-09: float64\n",
      "2005-10: float64\n",
      "2005-11: float64\n",
      "2005-12: float64\n",
      "2006-01: float64\n",
      "2006-02: float64\n",
      "2006-03: float64\n",
      "2006-04: float64\n",
      "2006-05: float64\n",
      "2006-06: float64\n",
      "2006-07: float64\n",
      "2006-08: float64\n",
      "2006-09: float64\n",
      "2006-10: float64\n",
      "2006-11: float64\n",
      "2006-12: float64\n",
      "2007-01: float64\n",
      "2007-02: float64\n",
      "2007-03: float64\n",
      "2007-04: float64\n",
      "2007-05: float64\n",
      "2007-06: float64\n",
      "2007-07: float64\n",
      "2007-08: float64\n",
      "2007-09: float64\n",
      "2007-10: float64\n",
      "2007-11: float64\n",
      "2007-12: float64\n",
      "2008-01: float64\n",
      "2008-02: float64\n",
      "2008-03: float64\n",
      "2008-04: float64\n",
      "2008-05: float64\n",
      "2008-06: float64\n",
      "2008-07: float64\n",
      "2008-08: float64\n",
      "2008-09: float64\n",
      "2008-10: float64\n",
      "2008-11: float64\n",
      "2008-12: float64\n",
      "2009-01: float64\n",
      "2009-02: float64\n",
      "2009-03: float64\n",
      "2009-04: float64\n",
      "2009-05: float64\n",
      "2009-06: float64\n",
      "2009-07: float64\n",
      "2009-08: float64\n",
      "2009-09: float64\n",
      "2009-10: float64\n",
      "2009-11: float64\n",
      "2009-12: float64\n",
      "2010-01: float64\n",
      "2010-02: float64\n",
      "2010-03: float64\n",
      "2010-04: float64\n",
      "2010-05: float64\n",
      "2010-06: float64\n",
      "2010-07: float64\n",
      "2010-08: float64\n",
      "2010-09: float64\n",
      "2010-10: float64\n",
      "2010-11: float64\n",
      "2010-12: float64\n",
      "2011-01: float64\n",
      "2011-02: float64\n",
      "2011-03: float64\n",
      "2011-04: float64\n",
      "2011-05: float64\n",
      "2011-06: float64\n",
      "2011-07: float64\n",
      "2011-08: float64\n",
      "2011-09: float64\n",
      "2011-10: float64\n",
      "2011-11: float64\n",
      "2011-12: float64\n",
      "2012-01: float64\n",
      "2012-02: float64\n",
      "2012-03: float64\n",
      "2012-04: float64\n",
      "2012-05: float64\n",
      "2012-06: float64\n",
      "2012-07: float64\n",
      "2012-08: float64\n",
      "2012-09: float64\n",
      "2012-10: float64\n",
      "2012-11: float64\n",
      "2012-12: float64\n",
      "2013-01: float64\n",
      "2013-02: float64\n",
      "2013-03: float64\n",
      "2013-04: float64\n",
      "2013-05: float64\n",
      "2013-06: float64\n",
      "2013-07: float64\n",
      "2013-08: float64\n",
      "2013-09: float64\n",
      "2013-10: float64\n",
      "2013-11: float64\n",
      "2013-12: float64\n",
      "2014-01: float64\n",
      "2014-02: float64\n",
      "2014-03: float64\n",
      "2014-04: float64\n",
      "2014-05: float64\n",
      "2014-06: float64\n",
      "2014-07: int64\n",
      "2014-08: int64\n",
      "2014-09: int64\n",
      "2014-10: int64\n",
      "2014-11: int64\n",
      "2014-12: int64\n",
      "2015-01: int64\n",
      "2015-02: int64\n",
      "2015-03: int64\n",
      "2015-04: int64\n",
      "2015-05: int64\n",
      "2015-06: int64\n",
      "2015-07: int64\n",
      "2015-08: int64\n",
      "2015-09: int64\n",
      "2015-10: int64\n",
      "2015-11: int64\n",
      "2015-12: int64\n",
      "2016-01: int64\n",
      "2016-02: int64\n",
      "2016-03: int64\n",
      "2016-04: int64\n",
      "2016-05: int64\n",
      "2016-06: int64\n",
      "2016-07: int64\n",
      "2016-08: int64\n",
      "2016-09: int64\n",
      "2016-10: int64\n",
      "2016-11: int64\n",
      "2016-12: int64\n",
      "2017-01: int64\n",
      "2017-02: int64\n",
      "2017-03: int64\n",
      "2017-04: int64\n",
      "2017-05: int64\n",
      "2017-06: int64\n",
      "2017-07: int64\n",
      "2017-08: int64\n",
      "2017-09: int64\n",
      "2017-10: int64\n",
      "2017-11: int64\n",
      "2017-12: int64\n",
      "2018-01: int64\n",
      "2018-02: int64\n",
      "2018-03: int64\n",
      "2018-04: int64\n"
     ]
    },
    {
     "data": {
      "text/html": [
       "<div>\n",
       "<style scoped>\n",
       "    .dataframe tbody tr th:only-of-type {\n",
       "        vertical-align: middle;\n",
       "    }\n",
       "\n",
       "    .dataframe tbody tr th {\n",
       "        vertical-align: top;\n",
       "    }\n",
       "\n",
       "    .dataframe thead th {\n",
       "        text-align: right;\n",
       "    }\n",
       "</style>\n",
       "<table border=\"1\" class=\"dataframe\">\n",
       "  <thead>\n",
       "    <tr style=\"text-align: right;\">\n",
       "      <th></th>\n",
       "      <th>RegionID</th>\n",
       "      <th>RegionName</th>\n",
       "      <th>City</th>\n",
       "      <th>State</th>\n",
       "      <th>Metro</th>\n",
       "      <th>CountyName</th>\n",
       "      <th>SizeRank</th>\n",
       "      <th>1996-04</th>\n",
       "      <th>1996-05</th>\n",
       "      <th>1996-06</th>\n",
       "      <th>...</th>\n",
       "      <th>2017-07</th>\n",
       "      <th>2017-08</th>\n",
       "      <th>2017-09</th>\n",
       "      <th>2017-10</th>\n",
       "      <th>2017-11</th>\n",
       "      <th>2017-12</th>\n",
       "      <th>2018-01</th>\n",
       "      <th>2018-02</th>\n",
       "      <th>2018-03</th>\n",
       "      <th>2018-04</th>\n",
       "    </tr>\n",
       "  </thead>\n",
       "  <tbody>\n",
       "    <tr>\n",
       "      <th>0</th>\n",
       "      <td>84654</td>\n",
       "      <td>60657</td>\n",
       "      <td>Chicago</td>\n",
       "      <td>IL</td>\n",
       "      <td>Chicago</td>\n",
       "      <td>Cook</td>\n",
       "      <td>1</td>\n",
       "      <td>334200.0</td>\n",
       "      <td>335400.0</td>\n",
       "      <td>336500.0</td>\n",
       "      <td>...</td>\n",
       "      <td>1005500</td>\n",
       "      <td>1007500</td>\n",
       "      <td>1007800</td>\n",
       "      <td>1009600</td>\n",
       "      <td>1013300</td>\n",
       "      <td>1018700</td>\n",
       "      <td>1024400</td>\n",
       "      <td>1030700</td>\n",
       "      <td>1033800</td>\n",
       "      <td>1030600</td>\n",
       "    </tr>\n",
       "    <tr>\n",
       "      <th>1</th>\n",
       "      <td>90668</td>\n",
       "      <td>75070</td>\n",
       "      <td>McKinney</td>\n",
       "      <td>TX</td>\n",
       "      <td>Dallas-Fort Worth</td>\n",
       "      <td>Collin</td>\n",
       "      <td>2</td>\n",
       "      <td>235700.0</td>\n",
       "      <td>236900.0</td>\n",
       "      <td>236700.0</td>\n",
       "      <td>...</td>\n",
       "      <td>308000</td>\n",
       "      <td>310000</td>\n",
       "      <td>312500</td>\n",
       "      <td>314100</td>\n",
       "      <td>315000</td>\n",
       "      <td>316600</td>\n",
       "      <td>318100</td>\n",
       "      <td>319600</td>\n",
       "      <td>321100</td>\n",
       "      <td>321800</td>\n",
       "    </tr>\n",
       "    <tr>\n",
       "      <th>2</th>\n",
       "      <td>91982</td>\n",
       "      <td>77494</td>\n",
       "      <td>Katy</td>\n",
       "      <td>TX</td>\n",
       "      <td>Houston</td>\n",
       "      <td>Harris</td>\n",
       "      <td>3</td>\n",
       "      <td>210400.0</td>\n",
       "      <td>212200.0</td>\n",
       "      <td>212200.0</td>\n",
       "      <td>...</td>\n",
       "      <td>321000</td>\n",
       "      <td>320600</td>\n",
       "      <td>320200</td>\n",
       "      <td>320400</td>\n",
       "      <td>320800</td>\n",
       "      <td>321200</td>\n",
       "      <td>321200</td>\n",
       "      <td>323000</td>\n",
       "      <td>326900</td>\n",
       "      <td>329900</td>\n",
       "    </tr>\n",
       "    <tr>\n",
       "      <th>3</th>\n",
       "      <td>84616</td>\n",
       "      <td>60614</td>\n",
       "      <td>Chicago</td>\n",
       "      <td>IL</td>\n",
       "      <td>Chicago</td>\n",
       "      <td>Cook</td>\n",
       "      <td>4</td>\n",
       "      <td>498100.0</td>\n",
       "      <td>500900.0</td>\n",
       "      <td>503100.0</td>\n",
       "      <td>...</td>\n",
       "      <td>1289800</td>\n",
       "      <td>1287700</td>\n",
       "      <td>1287400</td>\n",
       "      <td>1291500</td>\n",
       "      <td>1296600</td>\n",
       "      <td>1299000</td>\n",
       "      <td>1302700</td>\n",
       "      <td>1306400</td>\n",
       "      <td>1308500</td>\n",
       "      <td>1307000</td>\n",
       "    </tr>\n",
       "    <tr>\n",
       "      <th>4</th>\n",
       "      <td>93144</td>\n",
       "      <td>79936</td>\n",
       "      <td>El Paso</td>\n",
       "      <td>TX</td>\n",
       "      <td>El Paso</td>\n",
       "      <td>El Paso</td>\n",
       "      <td>5</td>\n",
       "      <td>77300.0</td>\n",
       "      <td>77300.0</td>\n",
       "      <td>77300.0</td>\n",
       "      <td>...</td>\n",
       "      <td>119100</td>\n",
       "      <td>119400</td>\n",
       "      <td>120000</td>\n",
       "      <td>120300</td>\n",
       "      <td>120300</td>\n",
       "      <td>120300</td>\n",
       "      <td>120300</td>\n",
       "      <td>120500</td>\n",
       "      <td>121000</td>\n",
       "      <td>121500</td>\n",
       "    </tr>\n",
       "  </tbody>\n",
       "</table>\n",
       "<p>5 rows × 272 columns</p>\n",
       "</div>"
      ],
      "text/plain": [
       "   RegionID  RegionName      City State              Metro CountyName  \\\n",
       "0     84654       60657   Chicago    IL            Chicago       Cook   \n",
       "1     90668       75070  McKinney    TX  Dallas-Fort Worth     Collin   \n",
       "2     91982       77494      Katy    TX            Houston     Harris   \n",
       "3     84616       60614   Chicago    IL            Chicago       Cook   \n",
       "4     93144       79936   El Paso    TX            El Paso    El Paso   \n",
       "\n",
       "   SizeRank   1996-04   1996-05   1996-06  ...  2017-07  2017-08  2017-09  \\\n",
       "0         1  334200.0  335400.0  336500.0  ...  1005500  1007500  1007800   \n",
       "1         2  235700.0  236900.0  236700.0  ...   308000   310000   312500   \n",
       "2         3  210400.0  212200.0  212200.0  ...   321000   320600   320200   \n",
       "3         4  498100.0  500900.0  503100.0  ...  1289800  1287700  1287400   \n",
       "4         5   77300.0   77300.0   77300.0  ...   119100   119400   120000   \n",
       "\n",
       "   2017-10  2017-11  2017-12  2018-01  2018-02  2018-03  2018-04  \n",
       "0  1009600  1013300  1018700  1024400  1030700  1033800  1030600  \n",
       "1   314100   315000   316600   318100   319600   321100   321800  \n",
       "2   320400   320800   321200   321200   323000   326900   329900  \n",
       "3  1291500  1296600  1299000  1302700  1306400  1308500  1307000  \n",
       "4   120300   120300   120300   120300   120500   121000   121500  \n",
       "\n",
       "[5 rows x 272 columns]"
      ]
     },
     "execution_count": 5,
     "metadata": {},
     "output_type": "execute_result"
    }
   ],
   "source": [
    "#Store the File Path\n",
    "path = 'zillow_data.csv'\n",
    "\n",
    "#Load the Dataset\n",
    "zillow_data = loader.load_data(path)\n",
    "\n",
    "informer.print_info(zillow_data)\n",
    "zillow_data.head()"
   ]
  },
  {
   "cell_type": "markdown",
   "metadata": {},
   "source": [
    "This dataset has a mix of various datatypes: RegionID, RegionName, and SizeRank as integers (int64) to facilitate mathematical computations, City, State, Metro, CountyName as objects to accommodate text-based categories, and Prices as float64 to enable precise numerical analysis and forecasting and the actual Time Series values are stored as separate columns as float64"
   ]
  },
  {
   "cell_type": "markdown",
   "metadata": {},
   "source": [
    "## c) Data Preparation"
   ]
  },
  {
   "cell_type": "markdown",
   "metadata": {},
   "source": [
    "This code initialize the datacleaner class with zillow dataset and its essential for preparing and cleaning the dataset for analysis"
   ]
  },
  {
   "cell_type": "code",
   "execution_count": 6,
   "metadata": {},
   "outputs": [],
   "source": [
    "#Cleaning Zillow dataset with DataCleaner Class \n",
    "\n",
    "cleaner = DataCleaner(zillow_data)"
   ]
  },
  {
   "cell_type": "code",
   "execution_count": 7,
   "metadata": {},
   "outputs": [],
   "source": [
    "# Data Preparation with DataPreparer Class\n",
    "preparer = DataPreparer(zillow_data)"
   ]
  },
  {
   "cell_type": "markdown",
   "metadata": {},
   "source": [
    "* Reshaping the dataset from a wide format to a long format, creating time and value columns.\n",
    "* Data Type Conversion - time column was converted from a string to date-time data type.\n",
    "* Dropping the null values in the Value column by row."
   ]
  },
  {
   "cell_type": "code",
   "execution_count": 8,
   "metadata": {},
   "outputs": [
    {
     "data": {
      "text/html": [
       "<div>\n",
       "<style scoped>\n",
       "    .dataframe tbody tr th:only-of-type {\n",
       "        vertical-align: middle;\n",
       "    }\n",
       "\n",
       "    .dataframe tbody tr th {\n",
       "        vertical-align: top;\n",
       "    }\n",
       "\n",
       "    .dataframe thead th {\n",
       "        text-align: right;\n",
       "    }\n",
       "</style>\n",
       "<table border=\"1\" class=\"dataframe\">\n",
       "  <thead>\n",
       "    <tr style=\"text-align: right;\">\n",
       "      <th></th>\n",
       "      <th>RegionID</th>\n",
       "      <th>RegionName</th>\n",
       "      <th>City</th>\n",
       "      <th>State</th>\n",
       "      <th>Metro</th>\n",
       "      <th>CountyName</th>\n",
       "      <th>SizeRank</th>\n",
       "      <th>time</th>\n",
       "      <th>value</th>\n",
       "    </tr>\n",
       "  </thead>\n",
       "  <tbody>\n",
       "    <tr>\n",
       "      <th>0</th>\n",
       "      <td>84654</td>\n",
       "      <td>60657</td>\n",
       "      <td>Chicago</td>\n",
       "      <td>IL</td>\n",
       "      <td>Chicago</td>\n",
       "      <td>Cook</td>\n",
       "      <td>1</td>\n",
       "      <td>1996-04-01</td>\n",
       "      <td>334200.0</td>\n",
       "    </tr>\n",
       "    <tr>\n",
       "      <th>1</th>\n",
       "      <td>90668</td>\n",
       "      <td>75070</td>\n",
       "      <td>McKinney</td>\n",
       "      <td>TX</td>\n",
       "      <td>Dallas-Fort Worth</td>\n",
       "      <td>Collin</td>\n",
       "      <td>2</td>\n",
       "      <td>1996-04-01</td>\n",
       "      <td>235700.0</td>\n",
       "    </tr>\n",
       "    <tr>\n",
       "      <th>2</th>\n",
       "      <td>91982</td>\n",
       "      <td>77494</td>\n",
       "      <td>Katy</td>\n",
       "      <td>TX</td>\n",
       "      <td>Houston</td>\n",
       "      <td>Harris</td>\n",
       "      <td>3</td>\n",
       "      <td>1996-04-01</td>\n",
       "      <td>210400.0</td>\n",
       "    </tr>\n",
       "    <tr>\n",
       "      <th>3</th>\n",
       "      <td>84616</td>\n",
       "      <td>60614</td>\n",
       "      <td>Chicago</td>\n",
       "      <td>IL</td>\n",
       "      <td>Chicago</td>\n",
       "      <td>Cook</td>\n",
       "      <td>4</td>\n",
       "      <td>1996-04-01</td>\n",
       "      <td>498100.0</td>\n",
       "    </tr>\n",
       "    <tr>\n",
       "      <th>4</th>\n",
       "      <td>93144</td>\n",
       "      <td>79936</td>\n",
       "      <td>El Paso</td>\n",
       "      <td>TX</td>\n",
       "      <td>El Paso</td>\n",
       "      <td>El Paso</td>\n",
       "      <td>5</td>\n",
       "      <td>1996-04-01</td>\n",
       "      <td>77300.0</td>\n",
       "    </tr>\n",
       "  </tbody>\n",
       "</table>\n",
       "</div>"
      ],
      "text/plain": [
       "   RegionID  RegionName      City State              Metro CountyName  \\\n",
       "0     84654       60657   Chicago    IL            Chicago       Cook   \n",
       "1     90668       75070  McKinney    TX  Dallas-Fort Worth     Collin   \n",
       "2     91982       77494      Katy    TX            Houston     Harris   \n",
       "3     84616       60614   Chicago    IL            Chicago       Cook   \n",
       "4     93144       79936   El Paso    TX            El Paso    El Paso   \n",
       "\n",
       "   SizeRank       time     value  \n",
       "0         1 1996-04-01  334200.0  \n",
       "1         2 1996-04-01  235700.0  \n",
       "2         3 1996-04-01  210400.0  \n",
       "3         4 1996-04-01  498100.0  \n",
       "4         5 1996-04-01   77300.0  "
      ]
     },
     "execution_count": 8,
     "metadata": {},
     "output_type": "execute_result"
    }
   ],
   "source": [
    "# Use the preparer object to melt the data\n",
    "clean_data = preparer.melt_data()\n",
    "# Display the first few rows of the melted data\n",
    "clean_data.head()"
   ]
  },
  {
   "cell_type": "code",
   "execution_count": 9,
   "metadata": {},
   "outputs": [
    {
     "data": {
      "text/plain": [
       "RegionID      14723\n",
       "RegionName    14723\n",
       "City           7554\n",
       "State            51\n",
       "Metro           701\n",
       "CountyName     1212\n",
       "SizeRank      14723\n",
       "time            265\n",
       "value         24372\n",
       "dtype: int64"
      ]
     },
     "execution_count": 9,
     "metadata": {},
     "output_type": "execute_result"
    }
   ],
   "source": [
    "# Finding the Number of Unique Values in Each Column\n",
    "clean_data.nunique()"
   ]
  },
  {
   "cell_type": "markdown",
   "metadata": {},
   "source": [
    "High uniqueness in columns like RegionID, RegionName and SizeRank indicates a well-differentiated dataset, columns like City and CountyName having fewer unique values than RegionID suggest that multiple regions can belong to the same city or county, which is typical in geographic datasets."
   ]
  },
  {
   "cell_type": "code",
   "execution_count": 10,
   "metadata": {},
   "outputs": [],
   "source": [
    "# Initialize the DataPreparer with cleaned data\n",
    "datach = DataPreparer(clean_data)"
   ]
  },
  {
   "cell_type": "code",
   "execution_count": 11,
   "metadata": {},
   "outputs": [
    {
     "data": {
      "text/html": [
       "<div>\n",
       "<style scoped>\n",
       "    .dataframe tbody tr th:only-of-type {\n",
       "        vertical-align: middle;\n",
       "    }\n",
       "\n",
       "    .dataframe tbody tr th {\n",
       "        vertical-align: top;\n",
       "    }\n",
       "\n",
       "    .dataframe thead th {\n",
       "        text-align: right;\n",
       "    }\n",
       "</style>\n",
       "<table border=\"1\" class=\"dataframe\">\n",
       "  <thead>\n",
       "    <tr style=\"text-align: right;\">\n",
       "      <th></th>\n",
       "      <th>Total</th>\n",
       "      <th>Percent</th>\n",
       "    </tr>\n",
       "  </thead>\n",
       "  <tbody>\n",
       "    <tr>\n",
       "      <th>Metro</th>\n",
       "      <td>236023</td>\n",
       "      <td>6.302848</td>\n",
       "    </tr>\n",
       "    <tr>\n",
       "      <th>value</th>\n",
       "      <td>0</td>\n",
       "      <td>0.000000</td>\n",
       "    </tr>\n",
       "    <tr>\n",
       "      <th>time</th>\n",
       "      <td>0</td>\n",
       "      <td>0.000000</td>\n",
       "    </tr>\n",
       "    <tr>\n",
       "      <th>SizeRank</th>\n",
       "      <td>0</td>\n",
       "      <td>0.000000</td>\n",
       "    </tr>\n",
       "    <tr>\n",
       "      <th>CountyName</th>\n",
       "      <td>0</td>\n",
       "      <td>0.000000</td>\n",
       "    </tr>\n",
       "    <tr>\n",
       "      <th>State</th>\n",
       "      <td>0</td>\n",
       "      <td>0.000000</td>\n",
       "    </tr>\n",
       "    <tr>\n",
       "      <th>City</th>\n",
       "      <td>0</td>\n",
       "      <td>0.000000</td>\n",
       "    </tr>\n",
       "    <tr>\n",
       "      <th>RegionName</th>\n",
       "      <td>0</td>\n",
       "      <td>0.000000</td>\n",
       "    </tr>\n",
       "    <tr>\n",
       "      <th>RegionID</th>\n",
       "      <td>0</td>\n",
       "      <td>0.000000</td>\n",
       "    </tr>\n",
       "  </tbody>\n",
       "</table>\n",
       "</div>"
      ],
      "text/plain": [
       "             Total   Percent\n",
       "Metro       236023  6.302848\n",
       "value            0  0.000000\n",
       "time             0  0.000000\n",
       "SizeRank         0  0.000000\n",
       "CountyName       0  0.000000\n",
       "State            0  0.000000\n",
       "City             0  0.000000\n",
       "RegionName       0  0.000000\n",
       "RegionID         0  0.000000"
      ]
     },
     "execution_count": 11,
     "metadata": {},
     "output_type": "execute_result"
    }
   ],
   "source": [
    "# Missing values percentage\n",
    "datach.missing_values_percentage()"
   ]
  },
  {
   "cell_type": "code",
   "execution_count": 12,
   "metadata": {},
   "outputs": [
    {
     "data": {
      "text/html": [
       "<div>\n",
       "<style scoped>\n",
       "    .dataframe tbody tr th:only-of-type {\n",
       "        vertical-align: middle;\n",
       "    }\n",
       "\n",
       "    .dataframe tbody tr th {\n",
       "        vertical-align: top;\n",
       "    }\n",
       "\n",
       "    .dataframe thead th {\n",
       "        text-align: right;\n",
       "    }\n",
       "</style>\n",
       "<table border=\"1\" class=\"dataframe\">\n",
       "  <thead>\n",
       "    <tr style=\"text-align: right;\">\n",
       "      <th></th>\n",
       "      <th>RegionID</th>\n",
       "      <th>RegionName</th>\n",
       "      <th>City</th>\n",
       "      <th>State</th>\n",
       "      <th>Metro</th>\n",
       "      <th>CountyName</th>\n",
       "      <th>SizeRank</th>\n",
       "      <th>time</th>\n",
       "      <th>value</th>\n",
       "    </tr>\n",
       "  </thead>\n",
       "  <tbody>\n",
       "    <tr>\n",
       "      <th>3</th>\n",
       "      <td>84616</td>\n",
       "      <td>60614</td>\n",
       "      <td>Chicago</td>\n",
       "      <td>IL</td>\n",
       "      <td>Chicago</td>\n",
       "      <td>Cook</td>\n",
       "      <td>4</td>\n",
       "      <td>1996-04-01</td>\n",
       "      <td>498100.0</td>\n",
       "    </tr>\n",
       "    <tr>\n",
       "      <th>9</th>\n",
       "      <td>97564</td>\n",
       "      <td>94109</td>\n",
       "      <td>San Francisco</td>\n",
       "      <td>CA</td>\n",
       "      <td>San Francisco</td>\n",
       "      <td>San Francisco</td>\n",
       "      <td>10</td>\n",
       "      <td>1996-04-01</td>\n",
       "      <td>766000.0</td>\n",
       "    </tr>\n",
       "    <tr>\n",
       "      <th>21</th>\n",
       "      <td>61703</td>\n",
       "      <td>10128</td>\n",
       "      <td>New York</td>\n",
       "      <td>NY</td>\n",
       "      <td>New York</td>\n",
       "      <td>New York</td>\n",
       "      <td>22</td>\n",
       "      <td>1996-04-01</td>\n",
       "      <td>3676700.0</td>\n",
       "    </tr>\n",
       "    <tr>\n",
       "      <th>84</th>\n",
       "      <td>72442</td>\n",
       "      <td>33139</td>\n",
       "      <td>Miami Beach</td>\n",
       "      <td>FL</td>\n",
       "      <td>Miami-Fort Lauderdale</td>\n",
       "      <td>Miami-Dade</td>\n",
       "      <td>85</td>\n",
       "      <td>1996-04-01</td>\n",
       "      <td>480200.0</td>\n",
       "    </tr>\n",
       "    <tr>\n",
       "      <th>321</th>\n",
       "      <td>91706</td>\n",
       "      <td>77057</td>\n",
       "      <td>Houston</td>\n",
       "      <td>TX</td>\n",
       "      <td>Houston</td>\n",
       "      <td>Harris</td>\n",
       "      <td>322</td>\n",
       "      <td>1996-04-01</td>\n",
       "      <td>448800.0</td>\n",
       "    </tr>\n",
       "    <tr>\n",
       "      <th>...</th>\n",
       "      <td>...</td>\n",
       "      <td>...</td>\n",
       "      <td>...</td>\n",
       "      <td>...</td>\n",
       "      <td>...</td>\n",
       "      <td>...</td>\n",
       "      <td>...</td>\n",
       "      <td>...</td>\n",
       "      <td>...</td>\n",
       "    </tr>\n",
       "    <tr>\n",
       "      <th>3901575</th>\n",
       "      <td>94323</td>\n",
       "      <td>83821</td>\n",
       "      <td>Coolin</td>\n",
       "      <td>ID</td>\n",
       "      <td>Sandpoint</td>\n",
       "      <td>Bonner</td>\n",
       "      <td>14704</td>\n",
       "      <td>2018-04-01</td>\n",
       "      <td>540400.0</td>\n",
       "    </tr>\n",
       "    <tr>\n",
       "      <th>3901576</th>\n",
       "      <td>70763</td>\n",
       "      <td>29915</td>\n",
       "      <td>Bluffton</td>\n",
       "      <td>SC</td>\n",
       "      <td>Hilton Head Island</td>\n",
       "      <td>Beaufort</td>\n",
       "      <td>14705</td>\n",
       "      <td>2018-04-01</td>\n",
       "      <td>507500.0</td>\n",
       "    </tr>\n",
       "    <tr>\n",
       "      <th>3901578</th>\n",
       "      <td>59046</td>\n",
       "      <td>3215</td>\n",
       "      <td>Waterville Valley</td>\n",
       "      <td>NH</td>\n",
       "      <td>Claremont</td>\n",
       "      <td>Grafton</td>\n",
       "      <td>14707</td>\n",
       "      <td>2018-04-01</td>\n",
       "      <td>796600.0</td>\n",
       "    </tr>\n",
       "    <tr>\n",
       "      <th>3901583</th>\n",
       "      <td>95893</td>\n",
       "      <td>89413</td>\n",
       "      <td>Glenbrook</td>\n",
       "      <td>NV</td>\n",
       "      <td>Gardnerville Ranchos</td>\n",
       "      <td>Douglas</td>\n",
       "      <td>14712</td>\n",
       "      <td>2018-04-01</td>\n",
       "      <td>2161900.0</td>\n",
       "    </tr>\n",
       "    <tr>\n",
       "      <th>3901593</th>\n",
       "      <td>93733</td>\n",
       "      <td>81225</td>\n",
       "      <td>Mount Crested Butte</td>\n",
       "      <td>CO</td>\n",
       "      <td>NaN</td>\n",
       "      <td>Gunnison</td>\n",
       "      <td>14722</td>\n",
       "      <td>2018-04-01</td>\n",
       "      <td>664400.0</td>\n",
       "    </tr>\n",
       "  </tbody>\n",
       "</table>\n",
       "<p>286044 rows × 9 columns</p>\n",
       "</div>"
      ],
      "text/plain": [
       "         RegionID  RegionName                 City State  \\\n",
       "3           84616       60614              Chicago    IL   \n",
       "9           97564       94109        San Francisco    CA   \n",
       "21          61703       10128             New York    NY   \n",
       "84          72442       33139          Miami Beach    FL   \n",
       "321         91706       77057              Houston    TX   \n",
       "...           ...         ...                  ...   ...   \n",
       "3901575     94323       83821               Coolin    ID   \n",
       "3901576     70763       29915             Bluffton    SC   \n",
       "3901578     59046        3215    Waterville Valley    NH   \n",
       "3901583     95893       89413            Glenbrook    NV   \n",
       "3901593     93733       81225  Mount Crested Butte    CO   \n",
       "\n",
       "                         Metro     CountyName  SizeRank       time      value  \n",
       "3                      Chicago           Cook         4 1996-04-01   498100.0  \n",
       "9                San Francisco  San Francisco        10 1996-04-01   766000.0  \n",
       "21                    New York       New York        22 1996-04-01  3676700.0  \n",
       "84       Miami-Fort Lauderdale     Miami-Dade        85 1996-04-01   480200.0  \n",
       "321                    Houston         Harris       322 1996-04-01   448800.0  \n",
       "...                        ...            ...       ...        ...        ...  \n",
       "3901575              Sandpoint         Bonner     14704 2018-04-01   540400.0  \n",
       "3901576     Hilton Head Island       Beaufort     14705 2018-04-01   507500.0  \n",
       "3901578              Claremont        Grafton     14707 2018-04-01   796600.0  \n",
       "3901583   Gardnerville Ranchos        Douglas     14712 2018-04-01  2161900.0  \n",
       "3901593                    NaN       Gunnison     14722 2018-04-01   664400.0  \n",
       "\n",
       "[286044 rows x 9 columns]"
      ]
     },
     "execution_count": 12,
     "metadata": {},
     "output_type": "execute_result"
    }
   ],
   "source": [
    "# Check for outliers in 'value' column\n",
    "datach.check_outliers('value')"
   ]
  },
  {
   "cell_type": "code",
   "execution_count": 13,
   "metadata": {},
   "outputs": [
    {
     "data": {
      "text/plain": [
       "RegionID           0\n",
       "RegionName         0\n",
       "City               0\n",
       "State              0\n",
       "Metro         236023\n",
       "CountyName         0\n",
       "SizeRank           0\n",
       "time               0\n",
       "value              0\n",
       "dtype: int64"
      ]
     },
     "execution_count": 13,
     "metadata": {},
     "output_type": "execute_result"
    }
   ],
   "source": [
    "# check null values\n",
    "datach.check_null_values()"
   ]
  },
  {
   "cell_type": "markdown",
   "metadata": {},
   "source": [
    "## Data Cleaning"
   ]
  },
  {
   "cell_type": "markdown",
   "metadata": {},
   "source": [
    "The Metro column has a significant number of missing values, accounting for approximately 6.30% of the total data. This indicates that information regarding metropolitan areas is incomplete for some entries."
   ]
  },
  {
   "cell_type": "code",
   "execution_count": 14,
   "metadata": {},
   "outputs": [],
   "source": [
    "#Dropping the metro column\n",
    "clean_data = clean_data.drop(['Metro'], axis=1)"
   ]
  },
  {
   "cell_type": "code",
   "execution_count": 15,
   "metadata": {},
   "outputs": [
    {
     "data": {
      "text/html": [
       "<div>\n",
       "<style scoped>\n",
       "    .dataframe tbody tr th:only-of-type {\n",
       "        vertical-align: middle;\n",
       "    }\n",
       "\n",
       "    .dataframe tbody tr th {\n",
       "        vertical-align: top;\n",
       "    }\n",
       "\n",
       "    .dataframe thead th {\n",
       "        text-align: right;\n",
       "    }\n",
       "</style>\n",
       "<table border=\"1\" class=\"dataframe\">\n",
       "  <thead>\n",
       "    <tr style=\"text-align: right;\">\n",
       "      <th></th>\n",
       "      <th>RegionID</th>\n",
       "      <th>RegionName</th>\n",
       "      <th>City</th>\n",
       "      <th>State</th>\n",
       "      <th>CountyName</th>\n",
       "      <th>SizeRank</th>\n",
       "      <th>time</th>\n",
       "      <th>value</th>\n",
       "    </tr>\n",
       "  </thead>\n",
       "  <tbody>\n",
       "    <tr>\n",
       "      <th>0</th>\n",
       "      <td>84654</td>\n",
       "      <td>60657</td>\n",
       "      <td>Chicago</td>\n",
       "      <td>IL</td>\n",
       "      <td>Cook</td>\n",
       "      <td>1</td>\n",
       "      <td>1996-04-01</td>\n",
       "      <td>334200.0</td>\n",
       "    </tr>\n",
       "    <tr>\n",
       "      <th>1</th>\n",
       "      <td>90668</td>\n",
       "      <td>75070</td>\n",
       "      <td>McKinney</td>\n",
       "      <td>TX</td>\n",
       "      <td>Collin</td>\n",
       "      <td>2</td>\n",
       "      <td>1996-04-01</td>\n",
       "      <td>235700.0</td>\n",
       "    </tr>\n",
       "    <tr>\n",
       "      <th>2</th>\n",
       "      <td>91982</td>\n",
       "      <td>77494</td>\n",
       "      <td>Katy</td>\n",
       "      <td>TX</td>\n",
       "      <td>Harris</td>\n",
       "      <td>3</td>\n",
       "      <td>1996-04-01</td>\n",
       "      <td>210400.0</td>\n",
       "    </tr>\n",
       "    <tr>\n",
       "      <th>3</th>\n",
       "      <td>84616</td>\n",
       "      <td>60614</td>\n",
       "      <td>Chicago</td>\n",
       "      <td>IL</td>\n",
       "      <td>Cook</td>\n",
       "      <td>4</td>\n",
       "      <td>1996-04-01</td>\n",
       "      <td>498100.0</td>\n",
       "    </tr>\n",
       "    <tr>\n",
       "      <th>4</th>\n",
       "      <td>93144</td>\n",
       "      <td>79936</td>\n",
       "      <td>El Paso</td>\n",
       "      <td>TX</td>\n",
       "      <td>El Paso</td>\n",
       "      <td>5</td>\n",
       "      <td>1996-04-01</td>\n",
       "      <td>77300.0</td>\n",
       "    </tr>\n",
       "  </tbody>\n",
       "</table>\n",
       "</div>"
      ],
      "text/plain": [
       "   RegionID  RegionName      City State CountyName  SizeRank       time  \\\n",
       "0     84654       60657   Chicago    IL       Cook         1 1996-04-01   \n",
       "1     90668       75070  McKinney    TX     Collin         2 1996-04-01   \n",
       "2     91982       77494      Katy    TX     Harris         3 1996-04-01   \n",
       "3     84616       60614   Chicago    IL       Cook         4 1996-04-01   \n",
       "4     93144       79936   El Paso    TX    El Paso         5 1996-04-01   \n",
       "\n",
       "      value  \n",
       "0  334200.0  \n",
       "1  235700.0  \n",
       "2  210400.0  \n",
       "3  498100.0  \n",
       "4   77300.0  "
      ]
     },
     "execution_count": 15,
     "metadata": {},
     "output_type": "execute_result"
    }
   ],
   "source": [
    "#checking the first few rows\n",
    "clean_data.head()"
   ]
  },
  {
   "cell_type": "code",
   "execution_count": 16,
   "metadata": {},
   "outputs": [],
   "source": [
    "# Initialize the DataCleaner with cleaned data\n",
    "cleaner = DataCleaner(clean_data)"
   ]
  },
  {
   "cell_type": "markdown",
   "metadata": {},
   "source": [
    "\n",
    "Detect Outliers Identifying data points that are significantly different from others.\n",
    "Treat Outliers: Deciding whether to remove, correct or keep outliers based on the context of the analysis."
   ]
  },
  {
   "cell_type": "markdown",
   "metadata": {},
   "source": [
    "## EXPLORATORY DATA ANALYSIS"
   ]
  },
  {
   "cell_type": "markdown",
   "metadata": {},
   "source": [
    "EDA in time series analysis involves ploting of the house prices values against the time which is the index inorder to see patterns. Exploring for trends either upwards, downwards, stationary or cyclic trends. \n",
    "Seasonality is also checked since it affects the choice of modelling. Both yearly and quarterly deacde will be considered.\n",
    "unexpected trends will also be factored in.\n"
   ]
  },
  {
   "cell_type": "markdown",
   "metadata": {},
   "source": [
    "The time column datatype is date-time - setting the time column as an index."
   ]
  },
  {
   "cell_type": "code",
   "execution_count": 17,
   "metadata": {},
   "outputs": [
    {
     "data": {
      "text/plain": [
       "RegionID               int64\n",
       "RegionName             int64\n",
       "City                  object\n",
       "State                 object\n",
       "CountyName            object\n",
       "SizeRank               int64\n",
       "time          datetime64[ns]\n",
       "value                float64\n",
       "dtype: object"
      ]
     },
     "execution_count": 17,
     "metadata": {},
     "output_type": "execute_result"
    }
   ],
   "source": [
    "clean_data.dtypes"
   ]
  },
  {
   "cell_type": "code",
   "execution_count": 18,
   "metadata": {},
   "outputs": [],
   "source": [
    "clean_data_indexed = clean_data.set_index(\"time\")"
   ]
  },
  {
   "cell_type": "markdown",
   "metadata": {},
   "source": [
    "Checking for the time period of the entire dataset"
   ]
  },
  {
   "cell_type": "code",
   "execution_count": 19,
   "metadata": {},
   "outputs": [
    {
     "data": {
      "text/html": [
       "<div>\n",
       "<style scoped>\n",
       "    .dataframe tbody tr th:only-of-type {\n",
       "        vertical-align: middle;\n",
       "    }\n",
       "\n",
       "    .dataframe tbody tr th {\n",
       "        vertical-align: top;\n",
       "    }\n",
       "\n",
       "    .dataframe thead th {\n",
       "        text-align: right;\n",
       "    }\n",
       "</style>\n",
       "<table border=\"1\" class=\"dataframe\">\n",
       "  <thead>\n",
       "    <tr style=\"text-align: right;\">\n",
       "      <th></th>\n",
       "      <th>RegionID</th>\n",
       "      <th>RegionName</th>\n",
       "      <th>City</th>\n",
       "      <th>State</th>\n",
       "      <th>CountyName</th>\n",
       "      <th>SizeRank</th>\n",
       "      <th>value</th>\n",
       "    </tr>\n",
       "    <tr>\n",
       "      <th>time</th>\n",
       "      <th></th>\n",
       "      <th></th>\n",
       "      <th></th>\n",
       "      <th></th>\n",
       "      <th></th>\n",
       "      <th></th>\n",
       "      <th></th>\n",
       "    </tr>\n",
       "  </thead>\n",
       "  <tbody>\n",
       "    <tr>\n",
       "      <th>1996-04-01</th>\n",
       "      <td>84654</td>\n",
       "      <td>60657</td>\n",
       "      <td>Chicago</td>\n",
       "      <td>IL</td>\n",
       "      <td>Cook</td>\n",
       "      <td>1</td>\n",
       "      <td>334200.0</td>\n",
       "    </tr>\n",
       "    <tr>\n",
       "      <th>1996-04-01</th>\n",
       "      <td>90668</td>\n",
       "      <td>75070</td>\n",
       "      <td>McKinney</td>\n",
       "      <td>TX</td>\n",
       "      <td>Collin</td>\n",
       "      <td>2</td>\n",
       "      <td>235700.0</td>\n",
       "    </tr>\n",
       "    <tr>\n",
       "      <th>1996-04-01</th>\n",
       "      <td>91982</td>\n",
       "      <td>77494</td>\n",
       "      <td>Katy</td>\n",
       "      <td>TX</td>\n",
       "      <td>Harris</td>\n",
       "      <td>3</td>\n",
       "      <td>210400.0</td>\n",
       "    </tr>\n",
       "    <tr>\n",
       "      <th>1996-04-01</th>\n",
       "      <td>84616</td>\n",
       "      <td>60614</td>\n",
       "      <td>Chicago</td>\n",
       "      <td>IL</td>\n",
       "      <td>Cook</td>\n",
       "      <td>4</td>\n",
       "      <td>498100.0</td>\n",
       "    </tr>\n",
       "    <tr>\n",
       "      <th>1996-04-01</th>\n",
       "      <td>93144</td>\n",
       "      <td>79936</td>\n",
       "      <td>El Paso</td>\n",
       "      <td>TX</td>\n",
       "      <td>El Paso</td>\n",
       "      <td>5</td>\n",
       "      <td>77300.0</td>\n",
       "    </tr>\n",
       "    <tr>\n",
       "      <th>...</th>\n",
       "      <td>...</td>\n",
       "      <td>...</td>\n",
       "      <td>...</td>\n",
       "      <td>...</td>\n",
       "      <td>...</td>\n",
       "      <td>...</td>\n",
       "      <td>...</td>\n",
       "    </tr>\n",
       "    <tr>\n",
       "      <th>2018-04-01</th>\n",
       "      <td>58333</td>\n",
       "      <td>1338</td>\n",
       "      <td>Ashfield</td>\n",
       "      <td>MA</td>\n",
       "      <td>Franklin</td>\n",
       "      <td>14719</td>\n",
       "      <td>209300.0</td>\n",
       "    </tr>\n",
       "    <tr>\n",
       "      <th>2018-04-01</th>\n",
       "      <td>59107</td>\n",
       "      <td>3293</td>\n",
       "      <td>Woodstock</td>\n",
       "      <td>NH</td>\n",
       "      <td>Grafton</td>\n",
       "      <td>14720</td>\n",
       "      <td>225800.0</td>\n",
       "    </tr>\n",
       "    <tr>\n",
       "      <th>2018-04-01</th>\n",
       "      <td>75672</td>\n",
       "      <td>40404</td>\n",
       "      <td>Berea</td>\n",
       "      <td>KY</td>\n",
       "      <td>Madison</td>\n",
       "      <td>14721</td>\n",
       "      <td>133400.0</td>\n",
       "    </tr>\n",
       "    <tr>\n",
       "      <th>2018-04-01</th>\n",
       "      <td>93733</td>\n",
       "      <td>81225</td>\n",
       "      <td>Mount Crested Butte</td>\n",
       "      <td>CO</td>\n",
       "      <td>Gunnison</td>\n",
       "      <td>14722</td>\n",
       "      <td>664400.0</td>\n",
       "    </tr>\n",
       "    <tr>\n",
       "      <th>2018-04-01</th>\n",
       "      <td>95851</td>\n",
       "      <td>89155</td>\n",
       "      <td>Mesquite</td>\n",
       "      <td>NV</td>\n",
       "      <td>Clark</td>\n",
       "      <td>14723</td>\n",
       "      <td>357200.0</td>\n",
       "    </tr>\n",
       "  </tbody>\n",
       "</table>\n",
       "<p>3744704 rows × 7 columns</p>\n",
       "</div>"
      ],
      "text/plain": [
       "            RegionID  RegionName                 City State CountyName  \\\n",
       "time                                                                     \n",
       "1996-04-01     84654       60657              Chicago    IL       Cook   \n",
       "1996-04-01     90668       75070             McKinney    TX     Collin   \n",
       "1996-04-01     91982       77494                 Katy    TX     Harris   \n",
       "1996-04-01     84616       60614              Chicago    IL       Cook   \n",
       "1996-04-01     93144       79936              El Paso    TX    El Paso   \n",
       "...              ...         ...                  ...   ...        ...   \n",
       "2018-04-01     58333        1338             Ashfield    MA   Franklin   \n",
       "2018-04-01     59107        3293            Woodstock    NH    Grafton   \n",
       "2018-04-01     75672       40404                Berea    KY    Madison   \n",
       "2018-04-01     93733       81225  Mount Crested Butte    CO   Gunnison   \n",
       "2018-04-01     95851       89155             Mesquite    NV      Clark   \n",
       "\n",
       "            SizeRank     value  \n",
       "time                            \n",
       "1996-04-01         1  334200.0  \n",
       "1996-04-01         2  235700.0  \n",
       "1996-04-01         3  210400.0  \n",
       "1996-04-01         4  498100.0  \n",
       "1996-04-01         5   77300.0  \n",
       "...              ...       ...  \n",
       "2018-04-01     14719  209300.0  \n",
       "2018-04-01     14720  225800.0  \n",
       "2018-04-01     14721  133400.0  \n",
       "2018-04-01     14722  664400.0  \n",
       "2018-04-01     14723  357200.0  \n",
       "\n",
       "[3744704 rows x 7 columns]"
      ]
     },
     "execution_count": 19,
     "metadata": {},
     "output_type": "execute_result"
    }
   ],
   "source": [
    "clean_data_indexed"
   ]
  },
  {
   "cell_type": "markdown",
   "metadata": {},
   "source": [
    "Checking the limits of the value column"
   ]
  },
  {
   "cell_type": "code",
   "execution_count": 20,
   "metadata": {},
   "outputs": [
    {
     "data": {
      "text/plain": [
       "count    3.744704e+06\n",
       "mean     2.076064e+05\n",
       "std      2.400207e+05\n",
       "min      1.130000e+04\n",
       "25%      9.790000e+04\n",
       "50%      1.476000e+05\n",
       "75%      2.372000e+05\n",
       "max      1.931490e+07\n",
       "Name: value, dtype: float64"
      ]
     },
     "execution_count": 20,
     "metadata": {},
     "output_type": "execute_result"
    }
   ],
   "source": [
    "clean_data_indexed['value'].describe()"
   ]
  },
  {
   "cell_type": "markdown",
   "metadata": {},
   "source": [
    "Creating an object instance of the class TimeSeriesAnalyzer called analyzer."
   ]
  },
  {
   "cell_type": "code",
   "execution_count": 21,
   "metadata": {},
   "outputs": [],
   "source": [
    "analyzer = TimeSeriesAnalyzer(clean_data_indexed, value_column='value')"
   ]
  },
  {
   "cell_type": "markdown",
   "metadata": {},
   "source": [
    "Ploting the overall time series from 1996 to 2018 shows an upward trend over the years, with very little fluctuations seen."
   ]
  },
  {
   "cell_type": "markdown",
   "metadata": {},
   "source": [
    "### Tread of the entire time series dataset \n",
    "\n",
    "from 1996 April to 2018 Aprl shows a general upward trend with a spike in 2004 and 2016"
   ]
  },
  {
   "cell_type": "code",
   "execution_count": 22,
   "metadata": {},
   "outputs": [
    {
     "data": {
      "image/png": "[encoded data removed]",
      "text/plain": [
       "<Figure size 864x288 with 1 Axes>"
      ]
     },
     "metadata": {
      "needs_background": "light"
     },
     "output_type": "display_data"
    }
   ],
   "source": [
    "# 1. Plot overall graph\n",
    "analyzer.plot_overall(xlim=('1996-04-01', '2018-04-01'), ylim=(900, 500000), title='Overall Time Series')\n"
   ]
  },
  {
   "cell_type": "code",
   "execution_count": 23,
   "metadata": {},
   "outputs": [
    {
     "data": {
      "image/png": "[encoded data removed]",
      "text/plain": [
       "<Figure size 1008x504 with 1 Axes>"
      ]
     },
     "metadata": {
      "needs_background": "light"
     },
     "output_type": "display_data"
    }
   ],
   "source": [
    "\n",
    "analyzer.plot_series(xlim=('1996-04-01', '2018-04-01'), ylim=(9000, 20000000), title='Overall Time Series')"
   ]
  },
  {
   "cell_type": "code",
   "execution_count": 24,
   "metadata": {},
   "outputs": [
    {
     "data": {
      "text/html": [
       "<div>\n",
       "<style scoped>\n",
       "    .dataframe tbody tr th:only-of-type {\n",
       "        vertical-align: middle;\n",
       "    }\n",
       "\n",
       "    .dataframe tbody tr th {\n",
       "        vertical-align: top;\n",
       "    }\n",
       "\n",
       "    .dataframe thead th {\n",
       "        text-align: right;\n",
       "    }\n",
       "</style>\n",
       "<table border=\"1\" class=\"dataframe\">\n",
       "  <thead>\n",
       "    <tr style=\"text-align: right;\">\n",
       "      <th></th>\n",
       "      <th>RegionID</th>\n",
       "      <th>RegionName</th>\n",
       "      <th>City</th>\n",
       "      <th>State</th>\n",
       "      <th>CountyName</th>\n",
       "      <th>SizeRank</th>\n",
       "      <th>value</th>\n",
       "    </tr>\n",
       "    <tr>\n",
       "      <th>time</th>\n",
       "      <th></th>\n",
       "      <th></th>\n",
       "      <th></th>\n",
       "      <th></th>\n",
       "      <th></th>\n",
       "      <th></th>\n",
       "      <th></th>\n",
       "    </tr>\n",
       "  </thead>\n",
       "  <tbody>\n",
       "    <tr>\n",
       "      <th>1996-04-01</th>\n",
       "      <td>84654</td>\n",
       "      <td>60657</td>\n",
       "      <td>Chicago</td>\n",
       "      <td>IL</td>\n",
       "      <td>Cook</td>\n",
       "      <td>1</td>\n",
       "      <td>334200.0</td>\n",
       "    </tr>\n",
       "    <tr>\n",
       "      <th>1996-04-01</th>\n",
       "      <td>90668</td>\n",
       "      <td>75070</td>\n",
       "      <td>McKinney</td>\n",
       "      <td>TX</td>\n",
       "      <td>Collin</td>\n",
       "      <td>2</td>\n",
       "      <td>235700.0</td>\n",
       "    </tr>\n",
       "    <tr>\n",
       "      <th>1996-04-01</th>\n",
       "      <td>91982</td>\n",
       "      <td>77494</td>\n",
       "      <td>Katy</td>\n",
       "      <td>TX</td>\n",
       "      <td>Harris</td>\n",
       "      <td>3</td>\n",
       "      <td>210400.0</td>\n",
       "    </tr>\n",
       "    <tr>\n",
       "      <th>1996-04-01</th>\n",
       "      <td>84616</td>\n",
       "      <td>60614</td>\n",
       "      <td>Chicago</td>\n",
       "      <td>IL</td>\n",
       "      <td>Cook</td>\n",
       "      <td>4</td>\n",
       "      <td>498100.0</td>\n",
       "    </tr>\n",
       "    <tr>\n",
       "      <th>1996-04-01</th>\n",
       "      <td>93144</td>\n",
       "      <td>79936</td>\n",
       "      <td>El Paso</td>\n",
       "      <td>TX</td>\n",
       "      <td>El Paso</td>\n",
       "      <td>5</td>\n",
       "      <td>77300.0</td>\n",
       "    </tr>\n",
       "    <tr>\n",
       "      <th>...</th>\n",
       "      <td>...</td>\n",
       "      <td>...</td>\n",
       "      <td>...</td>\n",
       "      <td>...</td>\n",
       "      <td>...</td>\n",
       "      <td>...</td>\n",
       "      <td>...</td>\n",
       "    </tr>\n",
       "    <tr>\n",
       "      <th>2018-04-01</th>\n",
       "      <td>58333</td>\n",
       "      <td>1338</td>\n",
       "      <td>Ashfield</td>\n",
       "      <td>MA</td>\n",
       "      <td>Franklin</td>\n",
       "      <td>14719</td>\n",
       "      <td>209300.0</td>\n",
       "    </tr>\n",
       "    <tr>\n",
       "      <th>2018-04-01</th>\n",
       "      <td>59107</td>\n",
       "      <td>3293</td>\n",
       "      <td>Woodstock</td>\n",
       "      <td>NH</td>\n",
       "      <td>Grafton</td>\n",
       "      <td>14720</td>\n",
       "      <td>225800.0</td>\n",
       "    </tr>\n",
       "    <tr>\n",
       "      <th>2018-04-01</th>\n",
       "      <td>75672</td>\n",
       "      <td>40404</td>\n",
       "      <td>Berea</td>\n",
       "      <td>KY</td>\n",
       "      <td>Madison</td>\n",
       "      <td>14721</td>\n",
       "      <td>133400.0</td>\n",
       "    </tr>\n",
       "    <tr>\n",
       "      <th>2018-04-01</th>\n",
       "      <td>93733</td>\n",
       "      <td>81225</td>\n",
       "      <td>Mount Crested Butte</td>\n",
       "      <td>CO</td>\n",
       "      <td>Gunnison</td>\n",
       "      <td>14722</td>\n",
       "      <td>664400.0</td>\n",
       "    </tr>\n",
       "    <tr>\n",
       "      <th>2018-04-01</th>\n",
       "      <td>95851</td>\n",
       "      <td>89155</td>\n",
       "      <td>Mesquite</td>\n",
       "      <td>NV</td>\n",
       "      <td>Clark</td>\n",
       "      <td>14723</td>\n",
       "      <td>357200.0</td>\n",
       "    </tr>\n",
       "  </tbody>\n",
       "</table>\n",
       "<p>3744704 rows × 7 columns</p>\n",
       "</div>"
      ],
      "text/plain": [
       "            RegionID  RegionName                 City State CountyName  \\\n",
       "time                                                                     \n",
       "1996-04-01     84654       60657              Chicago    IL       Cook   \n",
       "1996-04-01     90668       75070             McKinney    TX     Collin   \n",
       "1996-04-01     91982       77494                 Katy    TX     Harris   \n",
       "1996-04-01     84616       60614              Chicago    IL       Cook   \n",
       "1996-04-01     93144       79936              El Paso    TX    El Paso   \n",
       "...              ...         ...                  ...   ...        ...   \n",
       "2018-04-01     58333        1338             Ashfield    MA   Franklin   \n",
       "2018-04-01     59107        3293            Woodstock    NH    Grafton   \n",
       "2018-04-01     75672       40404                Berea    KY    Madison   \n",
       "2018-04-01     93733       81225  Mount Crested Butte    CO   Gunnison   \n",
       "2018-04-01     95851       89155             Mesquite    NV      Clark   \n",
       "\n",
       "            SizeRank     value  \n",
       "time                            \n",
       "1996-04-01         1  334200.0  \n",
       "1996-04-01         2  235700.0  \n",
       "1996-04-01         3  210400.0  \n",
       "1996-04-01         4  498100.0  \n",
       "1996-04-01         5   77300.0  \n",
       "...              ...       ...  \n",
       "2018-04-01     14719  209300.0  \n",
       "2018-04-01     14720  225800.0  \n",
       "2018-04-01     14721  133400.0  \n",
       "2018-04-01     14722  664400.0  \n",
       "2018-04-01     14723  357200.0  \n",
       "\n",
       "[3744704 rows x 7 columns]"
      ]
     },
     "execution_count": 24,
     "metadata": {},
     "output_type": "execute_result"
    }
   ],
   "source": [
    "clean_data_indexed"
   ]
  },
  {
   "cell_type": "markdown",
   "metadata": {},
   "source": [
    "### A close up look\n"
   ]
  },
  {
   "cell_type": "markdown",
   "metadata": {},
   "source": [
    "Tread from 1996 to 2000 shows an almost strationary trend."
   ]
  },
  {
   "cell_type": "code",
   "execution_count": 25,
   "metadata": {},
   "outputs": [
    {
     "data": {
      "image/png": "[encoded data removed]",
      "text/plain": [
       "<Figure size 864x288 with 1 Axes>"
      ]
     },
     "metadata": {
      "needs_background": "light"
     },
     "output_type": "display_data"
    }
   ],
   "source": [
    "#Plot from 1996 to 2000\n",
    "analyzer.plot_section(xlim=('1996-04-01', '2000-04-01'), ylim=(900, 500000), title='1996-04 to 2000-04 Time Series')\n"
   ]
  },
  {
   "cell_type": "code",
   "execution_count": 26,
   "metadata": {},
   "outputs": [
    {
     "data": {
      "image/png": "[encoded data removed]",
      "text/plain": [
       "<Figure size 864x288 with 1 Axes>"
      ]
     },
     "metadata": {
      "needs_background": "light"
     },
     "output_type": "display_data"
    }
   ],
   "source": [
    "# Plot for 2000 to 1996\n",
    "analyzer.plot_section(xlim=('2000-04-01', '2004-04-01'), ylim=(900, 500000), title='2000-04 to 2004-04 Time Series')"
   ]
  },
  {
   "cell_type": "markdown",
   "metadata": {},
   "source": [
    "2000-04 to 2004-04 Time Series plot shows there is gradual upwards trend , with a very small slope ."
   ]
  },
  {
   "cell_type": "code",
   "execution_count": 27,
   "metadata": {},
   "outputs": [
    {
     "data": {
      "image/png": "[encoded data removed]",
      "text/plain": [
       "<Figure size 864x288 with 1 Axes>"
      ]
     },
     "metadata": {
      "needs_background": "light"
     },
     "output_type": "display_data"
    }
   ],
   "source": [
    "#2004-04 to 2008-04 Time Series plot\n",
    "analyzer.plot_section(xlim=('2004-04-01', '2008-04-01'), ylim=(900, 500000), title='Time series plot from 2004 to 2008')"
   ]
  },
  {
   "cell_type": "markdown",
   "metadata": {},
   "source": [
    "The trends from the year 2004 and 2008 show  a slight increase at 2004 from approximately 0.15M to 0.21M in value ."
   ]
  },
  {
   "cell_type": "markdown",
   "metadata": {},
   "source": [
    "Trend from 2012 to 2018"
   ]
  },
  {
   "cell_type": "code",
   "execution_count": 34,
   "metadata": {},
   "outputs": [
    {
     "data": {
      "image/png": "[encoded data removed]",
      "text/plain": [
       "<Figure size 864x288 with 1 Axes>"
      ]
     },
     "metadata": {
      "needs_background": "light"
     },
     "output_type": "display_data"
    }
   ],
   "source": [
    "#2012-04 to 2018-04 Time Series plot\n",
    "analyzer.plot_section(xlim=('2012-04-01', '2018-04-01'), ylim=(900, 500000), title='Time series plot from 2012 to 2018')"
   ]
  },
  {
   "cell_type": "markdown",
   "metadata": {},
   "source": [
    "### Checking for trends using resampling"
   ]
  },
  {
   "cell_type": "code",
   "execution_count": 28,
   "metadata": {},
   "outputs": [
    {
     "data": {
      "image/png": "[encoded data removed]",
      "text/plain": [
       "<Figure size 864x288 with 1 Axes>"
      ]
     },
     "metadata": {
      "needs_background": "light"
     },
     "output_type": "display_data"
    }
   ],
   "source": [
    "#Using resampling tools to look at annual trends.\n",
    "analyzer.plot_resampled(rule = \"A\",   title='Annual trend')"
   ]
  },
  {
   "cell_type": "markdown",
   "metadata": {},
   "source": [
    "Annual trends show an upwards curve with:\n",
    "* An upward tread from 2000 to 2008 to about 250000 as price value.\n",
    "* A slight Downward tread between 2008 and 2012 and eventually an upward tread from 2016"
   ]
  },
  {
   "cell_type": "markdown",
   "metadata": {},
   "source": [
    "### Time series smoothening"
   ]
  },
  {
   "cell_type": "markdown",
   "metadata": {},
   "source": [
    "Up close, the data is not very smooth. we will hence use time series smoothing techniques to smooth out our data and narrow down on the best technique"
   ]
  },
  {
   "cell_type": "markdown",
   "metadata": {},
   "source": [
    "Simple moving average (SMA) and Exponential weighted Moving average (EWMN) are used below and the following is their plots.\n",
    "Below is a function that creates columns with values smoothed using SMA and EWMN."
   ]
  },
  {
   "cell_type": "code",
   "execution_count": 29,
   "metadata": {},
   "outputs": [],
   "source": [
    "def smooth_data(data, value_column, sma_window, ewma_span):\n",
    "    \"\"\"\n",
    "    Applies Simple Moving Average (SMA) and Exponential Moving Average (EWMA) to the data.\n",
    "    \n",
    "    pd.DataFrame: DataFrame containing the time, SMA, and EWMA columns.\n",
    "    \"\"\"\n",
    "    # Calculate Simple Moving Average (SMA)\n",
    "    data['SMA'] = data[value_column].rolling(window=sma_window).mean()\n",
    "    \n",
    "    # Calculate Exponential Moving Average (EWMA)\n",
    "    data['EWMA'] = data[value_column].ewm(span=ewma_span, adjust=False).mean()\n",
    "    \n",
    "    # Create a new DataFrame with 'time', 'SMA', and 'EWMA' columns\n",
    "    smoothed_data = data[[value_column, 'SMA', 'EWMA']].copy()\n",
    "    \n",
    "    # Ensure 'time' column is included by resetting index\n",
    "    smoothed_data.reset_index(inplace=True)\n",
    "    \n",
    "    \n",
    "    return smoothed_data"
   ]
  },
  {
   "cell_type": "code",
   "execution_count": 30,
   "metadata": {},
   "outputs": [
    {
     "data": {
      "text/html": [
       "<div>\n",
       "<style scoped>\n",
       "    .dataframe tbody tr th:only-of-type {\n",
       "        vertical-align: middle;\n",
       "    }\n",
       "\n",
       "    .dataframe tbody tr th {\n",
       "        vertical-align: top;\n",
       "    }\n",
       "\n",
       "    .dataframe thead th {\n",
       "        text-align: right;\n",
       "    }\n",
       "</style>\n",
       "<table border=\"1\" class=\"dataframe\">\n",
       "  <thead>\n",
       "    <tr style=\"text-align: right;\">\n",
       "      <th></th>\n",
       "      <th>index</th>\n",
       "      <th>value</th>\n",
       "      <th>SMA</th>\n",
       "      <th>EWMA</th>\n",
       "    </tr>\n",
       "  </thead>\n",
       "  <tbody>\n",
       "    <tr>\n",
       "      <th>0</th>\n",
       "      <td>0</td>\n",
       "      <td>334200.0</td>\n",
       "      <td>NaN</td>\n",
       "      <td>334200.000000</td>\n",
       "    </tr>\n",
       "    <tr>\n",
       "      <th>1</th>\n",
       "      <td>1</td>\n",
       "      <td>235700.0</td>\n",
       "      <td>NaN</td>\n",
       "      <td>301366.666667</td>\n",
       "    </tr>\n",
       "    <tr>\n",
       "      <th>2</th>\n",
       "      <td>2</td>\n",
       "      <td>210400.0</td>\n",
       "      <td>NaN</td>\n",
       "      <td>271044.444444</td>\n",
       "    </tr>\n",
       "    <tr>\n",
       "      <th>3</th>\n",
       "      <td>3</td>\n",
       "      <td>498100.0</td>\n",
       "      <td>NaN</td>\n",
       "      <td>346729.629630</td>\n",
       "    </tr>\n",
       "    <tr>\n",
       "      <th>4</th>\n",
       "      <td>4</td>\n",
       "      <td>77300.0</td>\n",
       "      <td>271140.0</td>\n",
       "      <td>256919.753086</td>\n",
       "    </tr>\n",
       "  </tbody>\n",
       "</table>\n",
       "</div>"
      ],
      "text/plain": [
       "   index     value       SMA           EWMA\n",
       "0      0  334200.0       NaN  334200.000000\n",
       "1      1  235700.0       NaN  301366.666667\n",
       "2      2  210400.0       NaN  271044.444444\n",
       "3      3  498100.0       NaN  346729.629630\n",
       "4      4   77300.0  271140.0  256919.753086"
      ]
     },
     "execution_count": 30,
     "metadata": {},
     "output_type": "execute_result"
    }
   ],
   "source": [
    "# Call the smooth_data function\n",
    "smoothed_data = smooth_data(clean_data, value_column='value', sma_window=5, ewma_span=5)\n",
    "\n",
    "smoothed_data.head()"
   ]
  },
  {
   "cell_type": "markdown",
   "metadata": {},
   "source": [
    "Smoothed_data is a dataframe containing the SMA columns and EWMN columns. \n",
    "SMA was done with a window of 5 and EWMN was done with a span of 5. \n",
    "The first five values of the sma columns are zeros."
   ]
  },
  {
   "cell_type": "code",
   "execution_count": 31,
   "metadata": {},
   "outputs": [
    {
     "data": {
      "image/png": "[encoded data removed]",
      "text/plain": [
       "<Figure size 864x288 with 1 Axes>"
      ]
     },
     "metadata": {
      "needs_background": "light"
     },
     "output_type": "display_data"
    }
   ],
   "source": [
    "#Ploting the data that has been smoothed out.\n",
    "analyzer.plot_smoothing(window_sma=5, span_ewma =5)"
   ]
  },
  {
   "cell_type": "markdown",
   "metadata": {},
   "source": [
    "Both techniques are effective but EWMA is better since it is more responsive to short term fluctuations as compaired to SMA. This is because SMA pts more pressure on old data while EWMA  gives more relevance to recent observations of the price column value."
   ]
  },
  {
   "cell_type": "markdown",
   "metadata": {},
   "source": [
    "### Seasonal decomposition."
   ]
  },
  {
   "cell_type": "markdown",
   "metadata": {},
   "source": [
    "Checking for seasonality in our dataset. This affects the type of machine learning algorithms to use."
   ]
  },
  {
   "cell_type": "code",
   "execution_count": 32,
   "metadata": {},
   "outputs": [
    {
     "data": {
      "image/png": "[encoded data removed]",
      "text/plain": [
       "<Figure size 864x576 with 4 Axes>"
      ]
     },
     "metadata": {
      "needs_background": "light"
     },
     "output_type": "display_data"
    }
   ],
   "source": [
    "#plot_seasonal_decomposition(self, model='additive', period=12, figsize=(12, 8), title='Seasonal Decomposition'):\n",
    "#Calling the function to perform seasonal decomposition.\n",
    "analyzer.plot_seasonal_decomposition( df = clean_data_indexed, column= 'value')"
   ]
  },
  {
   "cell_type": "code",
   "execution_count": 35,
   "metadata": {},
   "outputs": [
    {
     "data": {
      "image/png": "[encoded data removed]",
      "text/plain": [
       "<Figure size 432x288 with 4 Axes>"
      ]
     },
     "metadata": {
      "needs_background": "light"
     },
     "output_type": "display_data"
    }
   ],
   "source": [
    "seasonal_decompose(clean_data_indexed['value'], period =12 ).plot();"
   ]
  },
  {
   "cell_type": "markdown",
   "metadata": {},
   "source": [
    "The first image shows the entire time series dataset ploted. \n",
    "The trend plot shows a general upward trend as the years increase with a high slope peak occuring at 2004, and a gradual increase from then with few downward trends.\n",
    "There is an almost stationary trend between 1996 and 2004 of the house prices.\n",
    "There is some seasonality in the datset.\n",
    "Residuals are seen to increase as the years increase, noise is increasing. They are closer to zero before 2004, and start expanding from then."
   ]
  }
 ],
 "metadata": {
  "kernelspec": {
   "display_name": "Python 3 (ipykernel)",
   "language": "python",
   "name": "python3"
  },
  "language_info": {
   "codemirror_mode": {
    "name": "ipython",
    "version": 3
   },
   "file_extension": ".py",
   "mimetype": "text/x-python",
   "name": "python",
   "nbconvert_exporter": "python",
   "pygments_lexer": "ipython3",
   "version": "3.8.5"
  }
 },
 "nbformat": 4,
 "nbformat_minor": 4
}
