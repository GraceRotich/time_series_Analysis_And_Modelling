{
 "cells": [
  {
   "cell_type": "markdown",
   "metadata": {},
   "source": [
    "## Final Project Submission\n",
    "\n",
    "* Student name: Solphine Joseph, Grace Rotich, Mathew Kiprotich, Hilary Simiyu, Clyde Ochieng\n",
    "* Student pace:  full time\n",
    "* Scheduled project review date/time: \n",
    "* Instructor name: Nikita Njoroge\n",
    "* Blog post URL"
   ]
  },
  {
   "cell_type": "markdown",
   "metadata": {},
   "source": [
    "# Time Series Modeling Project"
   ]
  },
  {
   "cell_type": "markdown",
   "metadata": {},
   "source": [
    "## a)BUSINESS UNDERSTANDING "
   ]
  },
  {
   "cell_type": "markdown",
   "metadata": {},
   "source": [
    "#### *Overview:*\n",
    "\n",
    "The real estate market presents a dynamic and complex investment landscape, where the value of investments can significantly impact the financial well-being of investors. Identifying lucrative investment opportunities requires analyzing vast amounts of historical data to predict future trends, with the inherent volatility and regional diversity of the real estate market. Investors seek to maximize returns while managing the risks associated with market fluctuations and regional economic changes.The primary stakeholder in this project is Prime Nest Investment real-estate company which is  focused on identifying  the top 5 zip codes for real estate investment and optimizing their portflolios permomance by selecting regions with the highest potential for growth and stability.\n",
    "\n",
    "\n",
    "#### *Problem Statement:*\n",
    "\n",
    "The core challenge faced by PrimeNest Investments is the difficulty in accurately forecasting real estate prices across various zip codes, taking into account factors like profit margins, risk and investment horizons. The firm needs to navigate through the ambiguity and complexity of the real estate market to identify zip codes that promise the best returns on investment, balanced with an acceptable level of risk.\n",
    "By leveraging historical real estate price data from Zillow Research and employing time series modeling, PrimeNest Investments seeks a comprehensive analysis and recommendation to facilitate informed decision-making and strategic expansion of their investment portfolio.\n",
    "\n",
    "\n",
    "#### *Challenges:*\n",
    "\n",
    "- *Historical Data Only*: The dataset does not include future or real-time data, limiting the analysis to historical trends and necessitating assumptions about future market behavior.\n",
    "- *Lack of External Factors*: External economic indicators such as interest rates, employment rates and GDP growth which can significantly influence real estate prices are not included. This absence might limit the comprehensiveness of the forecast.\n",
    "- *Missing Values*: Any missing data could affect the analysis's accuracy.\n",
    "\n",
    "#### *Proposed Solution*\n",
    "* Implement robust data cleaning methods such as interpolation or imputation techniques to address missing values\n",
    "* Employ SARIMA (Seasonal Autoregressive Integrated Moving Average) models to capture both seasonal patterns and trends in the time series \n",
    "\n",
    "\n",
    "#### *Objectives*\n",
    "\n",
    "- To provide a data-driven basis for investment decisions with a model having an accuracy of more than 80%.\n",
    "- To identify zip codes with the highest potential for appreciation, thereby maximizing ROI.\n",
    "- To offer insights into market trends, enabling stakeholders to manage risks better and align investments with long-term financial goals.\n",
    "\n",
    "PrimeNest Investments will use the project's findings to focus their investment portfolio on zip codes with the best potential. Market analysts, financial advisors, and individual investors can leverage these insights for making informed real estate decisions. Beyond identifying investment opportunities, the project enhances understanding of real estate market dynamics and equips stakeholders with actionable insights to navigate investment complexities, thereby supporting their financial goals.\n",
    "\n",
    "#### *Conclusion:*\n",
    "\n",
    "PrimeNest Investments will use the project's findings to focus their investment portfolio on zip codes with the best potential. Market analysts, financial advisors, and individual investors can leverage these insights for making informed real estate decisions. Beyond identifying investment opportunities, the project enhances understanding of real estate market dynamics and equips stakeholders with actionable insights to navigate investment complexities, thereby supporting their financial goals.\n"
   ]
  },
  {
   "cell_type": "markdown",
   "metadata": {},
   "source": [
    "## b) DATA UNDERSTANDING\n",
    "\n",
    "*Data Source and Suitability:*\n",
    "\n",
    "The dataset is sourced from Zillow Research('https://www.zillow.com/research/data'), a reputable provider of historical real estate market data. It encompasses historical home values across various zip codes in the United States, spanning from April 1996 to April 2018. This dataset is particularly suited for the project due to its comprehensive coverage of the real estate market over two decades, offering a rich foundation for analyzing trends, forecasting future real estate prices, and identifying promising investment opportunities.\n",
    "\n",
    "*Dataset Properties:*\n",
    "\n",
    "- *Size of the Dataset*: The dataset consists of 14,723 entries (rows) and 272 columns. Each entry represents a unique zip code.\n",
    "The column names are as follows:\n",
    "\n",
    "| Field Name | Description |\n",
    "|---|---|\n",
    "| RegionID | A unique identifier for each region or zip code. |\n",
    "| RegionName | The name of the region, which typically corresponds to the zip code. |\n",
    "| City | The city where the region is located. |\n",
    "| State | The state where the region is located. |\n",
    "| Metro | The metropolitan area that the region is part of. |\n",
    "| CountyName | The county where the region is located. |\n",
    "| SizeRank | A ranking of the region based on its size or importance, with 1 being the largest or most significant. |\n",
    "| Date | The date of the recorded real estate price |\n",
    "| Price | The real estate price recorded for that region and date. |\n",
    "\n",
    "\n"
   ]
  },
  {
   "cell_type": "code",
   "execution_count": 32,
   "metadata": {},
   "outputs": [],
   "source": [
    "# importing relevant libraries\n",
    "\n",
    "# Analysis libraries\n",
    "import pandas as pd \n",
    "import numpy as np\n",
    "\n",
    "# Visualization libraries\n",
    "import matplotlib.pyplot as plt\n",
    "%matplotlib inline\n",
    "import seaborn as sns\n",
    "from statsmodels.tsa.seasonal import seasonal_decompose\n",
    "from pandas.plotting import register_matplotlib_converters\n",
    "register_matplotlib_converters()\n",
    "\n",
    "# Warning libraries\n",
    "import warnings\n",
    "warnings.simplefilter(\"ignore\")\n",
    "warnings.filterwarnings('ignore')\n",
    "\n",
    "#Classes for modeling\n",
    "from statsmodels.tsa.stattools import adfuller\n",
    "from statsmodels.graphics.tsaplots import plot_acf, plot_pacf\n",
    "from statsmodels.tsa.arima.model import ARIMA\n",
    "from sklearn.metrics import mean_squared_error, r2_score\n",
    "\n",
    "import pickle\n",
    "\n",
    "#import the classes from the functions module\n",
    "from functions import Data_Loader, Data_Informer, DataCleaner, DataPreparer, TimeSeriesAnalyzer , Modeling\n"
   ]
  },
  {
   "cell_type": "markdown",
   "metadata": {},
   "source": [
    "Create an Instance of the classes to be used"
   ]
  },
  {
   "cell_type": "code",
   "execution_count": 2,
   "metadata": {},
   "outputs": [],
   "source": [
    "loader = Data_Loader()\n",
    "\n",
    "informer = Data_Informer()"
   ]
  },
  {
   "cell_type": "code",
   "execution_count": 3,
   "metadata": {},
   "outputs": [
    {
     "name": "stdout",
     "output_type": "stream",
     "text": [
      "\n",
      "Shape of the dataset:\n",
      "(14723, 272)\n",
      "\n",
      "Information about the Dataset:\n",
      "<class 'pandas.core.frame.DataFrame'>\n",
      "RangeIndex: 14723 entries, 0 to 14722\n",
      "Columns: 272 entries, RegionID to 2018-04\n",
      "dtypes: float64(219), int64(49), object(4)\n",
      "memory usage: 30.6+ MB\n",
      "None\n",
      "\n",
      "Columns and their data types:\n",
      "RegionID: int64\n",
      "RegionName: int64\n",
      "City: object\n",
      "State: object\n",
      "Metro: object\n",
      "CountyName: object\n",
      "SizeRank: int64\n",
      "1996-04: float64\n",
      "1996-05: float64\n",
      "1996-06: float64\n",
      "1996-07: float64\n",
      "1996-08: float64\n",
      "1996-09: float64\n",
      "1996-10: float64\n",
      "1996-11: float64\n",
      "1996-12: float64\n",
      "1997-01: float64\n",
      "1997-02: float64\n",
      "1997-03: float64\n",
      "1997-04: float64\n",
      "1997-05: float64\n",
      "1997-06: float64\n",
      "1997-07: float64\n",
      "1997-08: float64\n",
      "1997-09: float64\n",
      "1997-10: float64\n",
      "1997-11: float64\n",
      "1997-12: float64\n",
      "1998-01: float64\n",
      "1998-02: float64\n",
      "1998-03: float64\n",
      "1998-04: float64\n",
      "1998-05: float64\n",
      "1998-06: float64\n",
      "1998-07: float64\n",
      "1998-08: float64\n",
      "1998-09: float64\n",
      "1998-10: float64\n",
      "1998-11: float64\n",
      "1998-12: float64\n",
      "1999-01: float64\n",
      "1999-02: float64\n",
      "1999-03: float64\n",
      "1999-04: float64\n",
      "1999-05: float64\n",
      "1999-06: float64\n",
      "1999-07: float64\n",
      "1999-08: float64\n",
      "1999-09: float64\n",
      "1999-10: float64\n",
      "1999-11: float64\n",
      "1999-12: float64\n",
      "2000-01: float64\n",
      "2000-02: float64\n",
      "2000-03: float64\n",
      "2000-04: float64\n",
      "2000-05: float64\n",
      "2000-06: float64\n",
      "2000-07: float64\n",
      "2000-08: float64\n",
      "2000-09: float64\n",
      "2000-10: float64\n",
      "2000-11: float64\n",
      "2000-12: float64\n",
      "2001-01: float64\n",
      "2001-02: float64\n",
      "2001-03: float64\n",
      "2001-04: float64\n",
      "2001-05: float64\n",
      "2001-06: float64\n",
      "2001-07: float64\n",
      "2001-08: float64\n",
      "2001-09: float64\n",
      "2001-10: float64\n",
      "2001-11: float64\n",
      "2001-12: float64\n",
      "2002-01: float64\n",
      "2002-02: float64\n",
      "2002-03: float64\n",
      "2002-04: float64\n",
      "2002-05: float64\n",
      "2002-06: float64\n",
      "2002-07: float64\n",
      "2002-08: float64\n",
      "2002-09: float64\n",
      "2002-10: float64\n",
      "2002-11: float64\n",
      "2002-12: float64\n",
      "2003-01: float64\n",
      "2003-02: float64\n",
      "2003-03: float64\n",
      "2003-04: float64\n",
      "2003-05: float64\n",
      "2003-06: float64\n",
      "2003-07: float64\n",
      "2003-08: float64\n",
      "2003-09: float64\n",
      "2003-10: float64\n",
      "2003-11: float64\n",
      "2003-12: float64\n",
      "2004-01: float64\n",
      "2004-02: float64\n",
      "2004-03: float64\n",
      "2004-04: float64\n",
      "2004-05: float64\n",
      "2004-06: float64\n",
      "2004-07: float64\n",
      "2004-08: float64\n",
      "2004-09: float64\n",
      "2004-10: float64\n",
      "2004-11: float64\n",
      "2004-12: float64\n",
      "2005-01: float64\n",
      "2005-02: float64\n",
      "2005-03: float64\n",
      "2005-04: float64\n",
      "2005-05: float64\n",
      "2005-06: float64\n",
      "2005-07: float64\n",
      "2005-08: float64\n",
      "2005-09: float64\n",
      "2005-10: float64\n",
      "2005-11: float64\n",
      "2005-12: float64\n",
      "2006-01: float64\n",
      "2006-02: float64\n",
      "2006-03: float64\n",
      "2006-04: float64\n",
      "2006-05: float64\n",
      "2006-06: float64\n",
      "2006-07: float64\n",
      "2006-08: float64\n",
      "2006-09: float64\n",
      "2006-10: float64\n",
      "2006-11: float64\n",
      "2006-12: float64\n",
      "2007-01: float64\n",
      "2007-02: float64\n",
      "2007-03: float64\n",
      "2007-04: float64\n",
      "2007-05: float64\n",
      "2007-06: float64\n",
      "2007-07: float64\n",
      "2007-08: float64\n",
      "2007-09: float64\n",
      "2007-10: float64\n",
      "2007-11: float64\n",
      "2007-12: float64\n",
      "2008-01: float64\n",
      "2008-02: float64\n",
      "2008-03: float64\n",
      "2008-04: float64\n",
      "2008-05: float64\n",
      "2008-06: float64\n",
      "2008-07: float64\n",
      "2008-08: float64\n",
      "2008-09: float64\n",
      "2008-10: float64\n",
      "2008-11: float64\n",
      "2008-12: float64\n",
      "2009-01: float64\n",
      "2009-02: float64\n",
      "2009-03: float64\n",
      "2009-04: float64\n",
      "2009-05: float64\n",
      "2009-06: float64\n",
      "2009-07: float64\n",
      "2009-08: float64\n",
      "2009-09: float64\n",
      "2009-10: float64\n",
      "2009-11: float64\n",
      "2009-12: float64\n",
      "2010-01: float64\n",
      "2010-02: float64\n",
      "2010-03: float64\n",
      "2010-04: float64\n",
      "2010-05: float64\n",
      "2010-06: float64\n",
      "2010-07: float64\n",
      "2010-08: float64\n",
      "2010-09: float64\n",
      "2010-10: float64\n",
      "2010-11: float64\n",
      "2010-12: float64\n",
      "2011-01: float64\n",
      "2011-02: float64\n",
      "2011-03: float64\n",
      "2011-04: float64\n",
      "2011-05: float64\n",
      "2011-06: float64\n",
      "2011-07: float64\n",
      "2011-08: float64\n",
      "2011-09: float64\n",
      "2011-10: float64\n",
      "2011-11: float64\n",
      "2011-12: float64\n",
      "2012-01: float64\n",
      "2012-02: float64\n",
      "2012-03: float64\n",
      "2012-04: float64\n",
      "2012-05: float64\n",
      "2012-06: float64\n",
      "2012-07: float64\n",
      "2012-08: float64\n",
      "2012-09: float64\n",
      "2012-10: float64\n",
      "2012-11: float64\n",
      "2012-12: float64\n",
      "2013-01: float64\n",
      "2013-02: float64\n",
      "2013-03: float64\n",
      "2013-04: float64\n",
      "2013-05: float64\n",
      "2013-06: float64\n",
      "2013-07: float64\n",
      "2013-08: float64\n",
      "2013-09: float64\n",
      "2013-10: float64\n",
      "2013-11: float64\n",
      "2013-12: float64\n",
      "2014-01: float64\n",
      "2014-02: float64\n",
      "2014-03: float64\n",
      "2014-04: float64\n",
      "2014-05: float64\n",
      "2014-06: float64\n",
      "2014-07: int64\n",
      "2014-08: int64\n",
      "2014-09: int64\n",
      "2014-10: int64\n",
      "2014-11: int64\n",
      "2014-12: int64\n",
      "2015-01: int64\n",
      "2015-02: int64\n",
      "2015-03: int64\n",
      "2015-04: int64\n",
      "2015-05: int64\n",
      "2015-06: int64\n",
      "2015-07: int64\n",
      "2015-08: int64\n",
      "2015-09: int64\n",
      "2015-10: int64\n",
      "2015-11: int64\n",
      "2015-12: int64\n",
      "2016-01: int64\n",
      "2016-02: int64\n",
      "2016-03: int64\n",
      "2016-04: int64\n",
      "2016-05: int64\n",
      "2016-06: int64\n",
      "2016-07: int64\n",
      "2016-08: int64\n",
      "2016-09: int64\n",
      "2016-10: int64\n",
      "2016-11: int64\n",
      "2016-12: int64\n",
      "2017-01: int64\n",
      "2017-02: int64\n",
      "2017-03: int64\n",
      "2017-04: int64\n",
      "2017-05: int64\n",
      "2017-06: int64\n",
      "2017-07: int64\n",
      "2017-08: int64\n",
      "2017-09: int64\n",
      "2017-10: int64\n",
      "2017-11: int64\n",
      "2017-12: int64\n",
      "2018-01: int64\n",
      "2018-02: int64\n",
      "2018-03: int64\n",
      "2018-04: int64\n"
     ]
    },
    {
     "data": {
      "text/html": [
       "<div>\n",
       "<style scoped>\n",
       "    .dataframe tbody tr th:only-of-type {\n",
       "        vertical-align: middle;\n",
       "    }\n",
       "\n",
       "    .dataframe tbody tr th {\n",
       "        vertical-align: top;\n",
       "    }\n",
       "\n",
       "    .dataframe thead th {\n",
       "        text-align: right;\n",
       "    }\n",
       "</style>\n",
       "<table border=\"1\" class=\"dataframe\">\n",
       "  <thead>\n",
       "    <tr style=\"text-align: right;\">\n",
       "      <th></th>\n",
       "      <th>RegionID</th>\n",
       "      <th>RegionName</th>\n",
       "      <th>City</th>\n",
       "      <th>State</th>\n",
       "      <th>Metro</th>\n",
       "      <th>CountyName</th>\n",
       "      <th>SizeRank</th>\n",
       "      <th>1996-04</th>\n",
       "      <th>1996-05</th>\n",
       "      <th>1996-06</th>\n",
       "      <th>...</th>\n",
       "      <th>2017-07</th>\n",
       "      <th>2017-08</th>\n",
       "      <th>2017-09</th>\n",
       "      <th>2017-10</th>\n",
       "      <th>2017-11</th>\n",
       "      <th>2017-12</th>\n",
       "      <th>2018-01</th>\n",
       "      <th>2018-02</th>\n",
       "      <th>2018-03</th>\n",
       "      <th>2018-04</th>\n",
       "    </tr>\n",
       "  </thead>\n",
       "  <tbody>\n",
       "    <tr>\n",
       "      <th>0</th>\n",
       "      <td>84654</td>\n",
       "      <td>60657</td>\n",
       "      <td>Chicago</td>\n",
       "      <td>IL</td>\n",
       "      <td>Chicago</td>\n",
       "      <td>Cook</td>\n",
       "      <td>1</td>\n",
       "      <td>334200.0</td>\n",
       "      <td>335400.0</td>\n",
       "      <td>336500.0</td>\n",
       "      <td>...</td>\n",
       "      <td>1005500</td>\n",
       "      <td>1007500</td>\n",
       "      <td>1007800</td>\n",
       "      <td>1009600</td>\n",
       "      <td>1013300</td>\n",
       "      <td>1018700</td>\n",
       "      <td>1024400</td>\n",
       "      <td>1030700</td>\n",
       "      <td>1033800</td>\n",
       "      <td>1030600</td>\n",
       "    </tr>\n",
       "    <tr>\n",
       "      <th>1</th>\n",
       "      <td>90668</td>\n",
       "      <td>75070</td>\n",
       "      <td>McKinney</td>\n",
       "      <td>TX</td>\n",
       "      <td>Dallas-Fort Worth</td>\n",
       "      <td>Collin</td>\n",
       "      <td>2</td>\n",
       "      <td>235700.0</td>\n",
       "      <td>236900.0</td>\n",
       "      <td>236700.0</td>\n",
       "      <td>...</td>\n",
       "      <td>308000</td>\n",
       "      <td>310000</td>\n",
       "      <td>312500</td>\n",
       "      <td>314100</td>\n",
       "      <td>315000</td>\n",
       "      <td>316600</td>\n",
       "      <td>318100</td>\n",
       "      <td>319600</td>\n",
       "      <td>321100</td>\n",
       "      <td>321800</td>\n",
       "    </tr>\n",
       "    <tr>\n",
       "      <th>2</th>\n",
       "      <td>91982</td>\n",
       "      <td>77494</td>\n",
       "      <td>Katy</td>\n",
       "      <td>TX</td>\n",
       "      <td>Houston</td>\n",
       "      <td>Harris</td>\n",
       "      <td>3</td>\n",
       "      <td>210400.0</td>\n",
       "      <td>212200.0</td>\n",
       "      <td>212200.0</td>\n",
       "      <td>...</td>\n",
       "      <td>321000</td>\n",
       "      <td>320600</td>\n",
       "      <td>320200</td>\n",
       "      <td>320400</td>\n",
       "      <td>320800</td>\n",
       "      <td>321200</td>\n",
       "      <td>321200</td>\n",
       "      <td>323000</td>\n",
       "      <td>326900</td>\n",
       "      <td>329900</td>\n",
       "    </tr>\n",
       "    <tr>\n",
       "      <th>3</th>\n",
       "      <td>84616</td>\n",
       "      <td>60614</td>\n",
       "      <td>Chicago</td>\n",
       "      <td>IL</td>\n",
       "      <td>Chicago</td>\n",
       "      <td>Cook</td>\n",
       "      <td>4</td>\n",
       "      <td>498100.0</td>\n",
       "      <td>500900.0</td>\n",
       "      <td>503100.0</td>\n",
       "      <td>...</td>\n",
       "      <td>1289800</td>\n",
       "      <td>1287700</td>\n",
       "      <td>1287400</td>\n",
       "      <td>1291500</td>\n",
       "      <td>1296600</td>\n",
       "      <td>1299000</td>\n",
       "      <td>1302700</td>\n",
       "      <td>1306400</td>\n",
       "      <td>1308500</td>\n",
       "      <td>1307000</td>\n",
       "    </tr>\n",
       "    <tr>\n",
       "      <th>4</th>\n",
       "      <td>93144</td>\n",
       "      <td>79936</td>\n",
       "      <td>El Paso</td>\n",
       "      <td>TX</td>\n",
       "      <td>El Paso</td>\n",
       "      <td>El Paso</td>\n",
       "      <td>5</td>\n",
       "      <td>77300.0</td>\n",
       "      <td>77300.0</td>\n",
       "      <td>77300.0</td>\n",
       "      <td>...</td>\n",
       "      <td>119100</td>\n",
       "      <td>119400</td>\n",
       "      <td>120000</td>\n",
       "      <td>120300</td>\n",
       "      <td>120300</td>\n",
       "      <td>120300</td>\n",
       "      <td>120300</td>\n",
       "      <td>120500</td>\n",
       "      <td>121000</td>\n",
       "      <td>121500</td>\n",
       "    </tr>\n",
       "  </tbody>\n",
       "</table>\n",
       "<p>5 rows × 272 columns</p>\n",
       "</div>"
      ],
      "text/plain": [
       "   RegionID  RegionName      City State              Metro CountyName  \\\n",
       "0     84654       60657   Chicago    IL            Chicago       Cook   \n",
       "1     90668       75070  McKinney    TX  Dallas-Fort Worth     Collin   \n",
       "2     91982       77494      Katy    TX            Houston     Harris   \n",
       "3     84616       60614   Chicago    IL            Chicago       Cook   \n",
       "4     93144       79936   El Paso    TX            El Paso    El Paso   \n",
       "\n",
       "   SizeRank   1996-04   1996-05   1996-06  ...  2017-07  2017-08  2017-09  \\\n",
       "0         1  334200.0  335400.0  336500.0  ...  1005500  1007500  1007800   \n",
       "1         2  235700.0  236900.0  236700.0  ...   308000   310000   312500   \n",
       "2         3  210400.0  212200.0  212200.0  ...   321000   320600   320200   \n",
       "3         4  498100.0  500900.0  503100.0  ...  1289800  1287700  1287400   \n",
       "4         5   77300.0   77300.0   77300.0  ...   119100   119400   120000   \n",
       "\n",
       "   2017-10  2017-11  2017-12  2018-01  2018-02  2018-03  2018-04  \n",
       "0  1009600  1013300  1018700  1024400  1030700  1033800  1030600  \n",
       "1   314100   315000   316600   318100   319600   321100   321800  \n",
       "2   320400   320800   321200   321200   323000   326900   329900  \n",
       "3  1291500  1296600  1299000  1302700  1306400  1308500  1307000  \n",
       "4   120300   120300   120300   120300   120500   121000   121500  \n",
       "\n",
       "[5 rows x 272 columns]"
      ]
     },
     "execution_count": 3,
     "metadata": {},
     "output_type": "execute_result"
    }
   ],
   "source": [
    "#Store the File Path\n",
    "path = 'zillow_data.csv'\n",
    "\n",
    "#Load the Dataset\n",
    "zillow_data = loader.load_data(path)\n",
    "\n",
    "informer.print_info(zillow_data)\n",
    "zillow_data.head()"
   ]
  },
  {
   "cell_type": "markdown",
   "metadata": {},
   "source": [
    "This dataset has a mix of various datatypes: RegionID, RegionName, and SizeRank as integers (int64) to facilitate mathematical computations, City, State, Metro, CountyName as objects to accommodate text-based categories, and Prices as float64 to enable precise numerical analysis and forecasting and the actual Time Series values are stored as separate columns as float64 and integers"
   ]
  },
  {
   "cell_type": "markdown",
   "metadata": {},
   "source": [
    "## c) DATA PREPARATION"
   ]
  },
  {
   "cell_type": "markdown",
   "metadata": {},
   "source": [
    "This code initialize the datacleaner class with zillow dataset and its essential for preparing and cleaning the dataset for analysis"
   ]
  },
  {
   "cell_type": "code",
   "execution_count": 4,
   "metadata": {},
   "outputs": [],
   "source": [
    "# Data Preparation with DataPreparer Class\n",
    "preparer = DataPreparer(zillow_data)"
   ]
  },
  {
   "cell_type": "markdown",
   "metadata": {},
   "source": [
    "* Reshaping the dataset from a wide format to a long format, creating time and value columns.\n",
    "* Data Type Conversion - time column was converted from a string to date-time data type.\n",
    "* Dropping the null values in the Value column by row."
   ]
  },
  {
   "cell_type": "code",
   "execution_count": 5,
   "metadata": {},
   "outputs": [
    {
     "data": {
      "text/html": [
       "<div>\n",
       "<style scoped>\n",
       "    .dataframe tbody tr th:only-of-type {\n",
       "        vertical-align: middle;\n",
       "    }\n",
       "\n",
       "    .dataframe tbody tr th {\n",
       "        vertical-align: top;\n",
       "    }\n",
       "\n",
       "    .dataframe thead th {\n",
       "        text-align: right;\n",
       "    }\n",
       "</style>\n",
       "<table border=\"1\" class=\"dataframe\">\n",
       "  <thead>\n",
       "    <tr style=\"text-align: right;\">\n",
       "      <th></th>\n",
       "      <th>RegionID</th>\n",
       "      <th>RegionName</th>\n",
       "      <th>City</th>\n",
       "      <th>State</th>\n",
       "      <th>Metro</th>\n",
       "      <th>CountyName</th>\n",
       "      <th>SizeRank</th>\n",
       "      <th>time</th>\n",
       "      <th>value</th>\n",
       "    </tr>\n",
       "  </thead>\n",
       "  <tbody>\n",
       "    <tr>\n",
       "      <th>0</th>\n",
       "      <td>84654</td>\n",
       "      <td>60657</td>\n",
       "      <td>Chicago</td>\n",
       "      <td>IL</td>\n",
       "      <td>Chicago</td>\n",
       "      <td>Cook</td>\n",
       "      <td>1</td>\n",
       "      <td>1996-04-01</td>\n",
       "      <td>334200.0</td>\n",
       "    </tr>\n",
       "    <tr>\n",
       "      <th>1</th>\n",
       "      <td>90668</td>\n",
       "      <td>75070</td>\n",
       "      <td>McKinney</td>\n",
       "      <td>TX</td>\n",
       "      <td>Dallas-Fort Worth</td>\n",
       "      <td>Collin</td>\n",
       "      <td>2</td>\n",
       "      <td>1996-04-01</td>\n",
       "      <td>235700.0</td>\n",
       "    </tr>\n",
       "    <tr>\n",
       "      <th>2</th>\n",
       "      <td>91982</td>\n",
       "      <td>77494</td>\n",
       "      <td>Katy</td>\n",
       "      <td>TX</td>\n",
       "      <td>Houston</td>\n",
       "      <td>Harris</td>\n",
       "      <td>3</td>\n",
       "      <td>1996-04-01</td>\n",
       "      <td>210400.0</td>\n",
       "    </tr>\n",
       "    <tr>\n",
       "      <th>3</th>\n",
       "      <td>84616</td>\n",
       "      <td>60614</td>\n",
       "      <td>Chicago</td>\n",
       "      <td>IL</td>\n",
       "      <td>Chicago</td>\n",
       "      <td>Cook</td>\n",
       "      <td>4</td>\n",
       "      <td>1996-04-01</td>\n",
       "      <td>498100.0</td>\n",
       "    </tr>\n",
       "    <tr>\n",
       "      <th>4</th>\n",
       "      <td>93144</td>\n",
       "      <td>79936</td>\n",
       "      <td>El Paso</td>\n",
       "      <td>TX</td>\n",
       "      <td>El Paso</td>\n",
       "      <td>El Paso</td>\n",
       "      <td>5</td>\n",
       "      <td>1996-04-01</td>\n",
       "      <td>77300.0</td>\n",
       "    </tr>\n",
       "  </tbody>\n",
       "</table>\n",
       "</div>"
      ],
      "text/plain": [
       "   RegionID  RegionName      City State              Metro CountyName  \\\n",
       "0     84654       60657   Chicago    IL            Chicago       Cook   \n",
       "1     90668       75070  McKinney    TX  Dallas-Fort Worth     Collin   \n",
       "2     91982       77494      Katy    TX            Houston     Harris   \n",
       "3     84616       60614   Chicago    IL            Chicago       Cook   \n",
       "4     93144       79936   El Paso    TX            El Paso    El Paso   \n",
       "\n",
       "   SizeRank       time     value  \n",
       "0         1 1996-04-01  334200.0  \n",
       "1         2 1996-04-01  235700.0  \n",
       "2         3 1996-04-01  210400.0  \n",
       "3         4 1996-04-01  498100.0  \n",
       "4         5 1996-04-01   77300.0  "
      ]
     },
     "execution_count": 5,
     "metadata": {},
     "output_type": "execute_result"
    }
   ],
   "source": [
    "# Use the preparer object to melt the data\n",
    "clean_data = preparer.melt_data()\n",
    "# Display the first few rows of the melted data\n",
    "clean_data.head()"
   ]
  },
  {
   "cell_type": "code",
   "execution_count": 6,
   "metadata": {},
   "outputs": [
    {
     "data": {
      "text/plain": [
       "RegionID      14723\n",
       "RegionName    14723\n",
       "City           7554\n",
       "State            51\n",
       "Metro           701\n",
       "CountyName     1212\n",
       "SizeRank      14723\n",
       "time            265\n",
       "value         24372\n",
       "dtype: int64"
      ]
     },
     "execution_count": 6,
     "metadata": {},
     "output_type": "execute_result"
    }
   ],
   "source": [
    "# Finding the Number of Unique Values in Each Column\n",
    "clean_data.nunique()"
   ]
  },
  {
   "cell_type": "markdown",
   "metadata": {},
   "source": [
    "High uniqueness in columns like RegionID, RegionName and SizeRank indicates a well-differentiated dataset, columns like City and CountyName having fewer unique values than RegionID suggest that multiple regions can belong to the same city or county, which is typical in geographic datasets."
   ]
  },
  {
   "cell_type": "code",
   "execution_count": 33,
   "metadata": {},
   "outputs": [],
   "source": [
    "# Initialize the DataPreparer with cleaned data\n",
    "datach = DataPreparer(clean_data)"
   ]
  },
  {
   "cell_type": "code",
   "execution_count": 8,
   "metadata": {},
   "outputs": [
    {
     "data": {
      "text/html": [
       "<div>\n",
       "<style scoped>\n",
       "    .dataframe tbody tr th:only-of-type {\n",
       "        vertical-align: middle;\n",
       "    }\n",
       "\n",
       "    .dataframe tbody tr th {\n",
       "        vertical-align: top;\n",
       "    }\n",
       "\n",
       "    .dataframe thead th {\n",
       "        text-align: right;\n",
       "    }\n",
       "</style>\n",
       "<table border=\"1\" class=\"dataframe\">\n",
       "  <thead>\n",
       "    <tr style=\"text-align: right;\">\n",
       "      <th></th>\n",
       "      <th>Total</th>\n",
       "      <th>Percent</th>\n",
       "    </tr>\n",
       "  </thead>\n",
       "  <tbody>\n",
       "    <tr>\n",
       "      <th>Metro</th>\n",
       "      <td>236023</td>\n",
       "      <td>6.302848</td>\n",
       "    </tr>\n",
       "    <tr>\n",
       "      <th>value</th>\n",
       "      <td>0</td>\n",
       "      <td>0.000000</td>\n",
       "    </tr>\n",
       "    <tr>\n",
       "      <th>time</th>\n",
       "      <td>0</td>\n",
       "      <td>0.000000</td>\n",
       "    </tr>\n",
       "    <tr>\n",
       "      <th>SizeRank</th>\n",
       "      <td>0</td>\n",
       "      <td>0.000000</td>\n",
       "    </tr>\n",
       "    <tr>\n",
       "      <th>CountyName</th>\n",
       "      <td>0</td>\n",
       "      <td>0.000000</td>\n",
       "    </tr>\n",
       "    <tr>\n",
       "      <th>State</th>\n",
       "      <td>0</td>\n",
       "      <td>0.000000</td>\n",
       "    </tr>\n",
       "    <tr>\n",
       "      <th>City</th>\n",
       "      <td>0</td>\n",
       "      <td>0.000000</td>\n",
       "    </tr>\n",
       "    <tr>\n",
       "      <th>RegionName</th>\n",
       "      <td>0</td>\n",
       "      <td>0.000000</td>\n",
       "    </tr>\n",
       "    <tr>\n",
       "      <th>RegionID</th>\n",
       "      <td>0</td>\n",
       "      <td>0.000000</td>\n",
       "    </tr>\n",
       "  </tbody>\n",
       "</table>\n",
       "</div>"
      ],
      "text/plain": [
       "             Total   Percent\n",
       "Metro       236023  6.302848\n",
       "value            0  0.000000\n",
       "time             0  0.000000\n",
       "SizeRank         0  0.000000\n",
       "CountyName       0  0.000000\n",
       "State            0  0.000000\n",
       "City             0  0.000000\n",
       "RegionName       0  0.000000\n",
       "RegionID         0  0.000000"
      ]
     },
     "execution_count": 8,
     "metadata": {},
     "output_type": "execute_result"
    }
   ],
   "source": [
    "# Missing values percentage\n",
    "datach.missing_values_percentage()"
   ]
  },
  {
   "cell_type": "code",
   "execution_count": 9,
   "metadata": {},
   "outputs": [
    {
     "data": {
      "text/html": [
       "<div>\n",
       "<style scoped>\n",
       "    .dataframe tbody tr th:only-of-type {\n",
       "        vertical-align: middle;\n",
       "    }\n",
       "\n",
       "    .dataframe tbody tr th {\n",
       "        vertical-align: top;\n",
       "    }\n",
       "\n",
       "    .dataframe thead th {\n",
       "        text-align: right;\n",
       "    }\n",
       "</style>\n",
       "<table border=\"1\" class=\"dataframe\">\n",
       "  <thead>\n",
       "    <tr style=\"text-align: right;\">\n",
       "      <th></th>\n",
       "      <th>RegionID</th>\n",
       "      <th>RegionName</th>\n",
       "      <th>City</th>\n",
       "      <th>State</th>\n",
       "      <th>Metro</th>\n",
       "      <th>CountyName</th>\n",
       "      <th>SizeRank</th>\n",
       "      <th>time</th>\n",
       "      <th>value</th>\n",
       "    </tr>\n",
       "  </thead>\n",
       "  <tbody>\n",
       "    <tr>\n",
       "      <th>3</th>\n",
       "      <td>84616</td>\n",
       "      <td>60614</td>\n",
       "      <td>Chicago</td>\n",
       "      <td>IL</td>\n",
       "      <td>Chicago</td>\n",
       "      <td>Cook</td>\n",
       "      <td>4</td>\n",
       "      <td>1996-04-01</td>\n",
       "      <td>498100.0</td>\n",
       "    </tr>\n",
       "    <tr>\n",
       "      <th>9</th>\n",
       "      <td>97564</td>\n",
       "      <td>94109</td>\n",
       "      <td>San Francisco</td>\n",
       "      <td>CA</td>\n",
       "      <td>San Francisco</td>\n",
       "      <td>San Francisco</td>\n",
       "      <td>10</td>\n",
       "      <td>1996-04-01</td>\n",
       "      <td>766000.0</td>\n",
       "    </tr>\n",
       "    <tr>\n",
       "      <th>21</th>\n",
       "      <td>61703</td>\n",
       "      <td>10128</td>\n",
       "      <td>New York</td>\n",
       "      <td>NY</td>\n",
       "      <td>New York</td>\n",
       "      <td>New York</td>\n",
       "      <td>22</td>\n",
       "      <td>1996-04-01</td>\n",
       "      <td>3676700.0</td>\n",
       "    </tr>\n",
       "    <tr>\n",
       "      <th>84</th>\n",
       "      <td>72442</td>\n",
       "      <td>33139</td>\n",
       "      <td>Miami Beach</td>\n",
       "      <td>FL</td>\n",
       "      <td>Miami-Fort Lauderdale</td>\n",
       "      <td>Miami-Dade</td>\n",
       "      <td>85</td>\n",
       "      <td>1996-04-01</td>\n",
       "      <td>480200.0</td>\n",
       "    </tr>\n",
       "    <tr>\n",
       "      <th>321</th>\n",
       "      <td>91706</td>\n",
       "      <td>77057</td>\n",
       "      <td>Houston</td>\n",
       "      <td>TX</td>\n",
       "      <td>Houston</td>\n",
       "      <td>Harris</td>\n",
       "      <td>322</td>\n",
       "      <td>1996-04-01</td>\n",
       "      <td>448800.0</td>\n",
       "    </tr>\n",
       "    <tr>\n",
       "      <th>...</th>\n",
       "      <td>...</td>\n",
       "      <td>...</td>\n",
       "      <td>...</td>\n",
       "      <td>...</td>\n",
       "      <td>...</td>\n",
       "      <td>...</td>\n",
       "      <td>...</td>\n",
       "      <td>...</td>\n",
       "      <td>...</td>\n",
       "    </tr>\n",
       "    <tr>\n",
       "      <th>3901575</th>\n",
       "      <td>94323</td>\n",
       "      <td>83821</td>\n",
       "      <td>Coolin</td>\n",
       "      <td>ID</td>\n",
       "      <td>Sandpoint</td>\n",
       "      <td>Bonner</td>\n",
       "      <td>14704</td>\n",
       "      <td>2018-04-01</td>\n",
       "      <td>540400.0</td>\n",
       "    </tr>\n",
       "    <tr>\n",
       "      <th>3901576</th>\n",
       "      <td>70763</td>\n",
       "      <td>29915</td>\n",
       "      <td>Bluffton</td>\n",
       "      <td>SC</td>\n",
       "      <td>Hilton Head Island</td>\n",
       "      <td>Beaufort</td>\n",
       "      <td>14705</td>\n",
       "      <td>2018-04-01</td>\n",
       "      <td>507500.0</td>\n",
       "    </tr>\n",
       "    <tr>\n",
       "      <th>3901578</th>\n",
       "      <td>59046</td>\n",
       "      <td>3215</td>\n",
       "      <td>Waterville Valley</td>\n",
       "      <td>NH</td>\n",
       "      <td>Claremont</td>\n",
       "      <td>Grafton</td>\n",
       "      <td>14707</td>\n",
       "      <td>2018-04-01</td>\n",
       "      <td>796600.0</td>\n",
       "    </tr>\n",
       "    <tr>\n",
       "      <th>3901583</th>\n",
       "      <td>95893</td>\n",
       "      <td>89413</td>\n",
       "      <td>Glenbrook</td>\n",
       "      <td>NV</td>\n",
       "      <td>Gardnerville Ranchos</td>\n",
       "      <td>Douglas</td>\n",
       "      <td>14712</td>\n",
       "      <td>2018-04-01</td>\n",
       "      <td>2161900.0</td>\n",
       "    </tr>\n",
       "    <tr>\n",
       "      <th>3901593</th>\n",
       "      <td>93733</td>\n",
       "      <td>81225</td>\n",
       "      <td>Mount Crested Butte</td>\n",
       "      <td>CO</td>\n",
       "      <td>NaN</td>\n",
       "      <td>Gunnison</td>\n",
       "      <td>14722</td>\n",
       "      <td>2018-04-01</td>\n",
       "      <td>664400.0</td>\n",
       "    </tr>\n",
       "  </tbody>\n",
       "</table>\n",
       "<p>286044 rows × 9 columns</p>\n",
       "</div>"
      ],
      "text/plain": [
       "         RegionID  RegionName                 City State  \\\n",
       "3           84616       60614              Chicago    IL   \n",
       "9           97564       94109        San Francisco    CA   \n",
       "21          61703       10128             New York    NY   \n",
       "84          72442       33139          Miami Beach    FL   \n",
       "321         91706       77057              Houston    TX   \n",
       "...           ...         ...                  ...   ...   \n",
       "3901575     94323       83821               Coolin    ID   \n",
       "3901576     70763       29915             Bluffton    SC   \n",
       "3901578     59046        3215    Waterville Valley    NH   \n",
       "3901583     95893       89413            Glenbrook    NV   \n",
       "3901593     93733       81225  Mount Crested Butte    CO   \n",
       "\n",
       "                         Metro     CountyName  SizeRank       time      value  \n",
       "3                      Chicago           Cook         4 1996-04-01   498100.0  \n",
       "9                San Francisco  San Francisco        10 1996-04-01   766000.0  \n",
       "21                    New York       New York        22 1996-04-01  3676700.0  \n",
       "84       Miami-Fort Lauderdale     Miami-Dade        85 1996-04-01   480200.0  \n",
       "321                    Houston         Harris       322 1996-04-01   448800.0  \n",
       "...                        ...            ...       ...        ...        ...  \n",
       "3901575              Sandpoint         Bonner     14704 2018-04-01   540400.0  \n",
       "3901576     Hilton Head Island       Beaufort     14705 2018-04-01   507500.0  \n",
       "3901578              Claremont        Grafton     14707 2018-04-01   796600.0  \n",
       "3901583   Gardnerville Ranchos        Douglas     14712 2018-04-01  2161900.0  \n",
       "3901593                    NaN       Gunnison     14722 2018-04-01   664400.0  \n",
       "\n",
       "[286044 rows x 9 columns]"
      ]
     },
     "execution_count": 9,
     "metadata": {},
     "output_type": "execute_result"
    }
   ],
   "source": [
    "# Check for outliers in 'value' column\n",
    "datach.check_outliers('value')"
   ]
  },
  {
   "cell_type": "code",
   "execution_count": 10,
   "metadata": {},
   "outputs": [
    {
     "data": {
      "text/plain": [
       "RegionID           0\n",
       "RegionName         0\n",
       "City               0\n",
       "State              0\n",
       "Metro         236023\n",
       "CountyName         0\n",
       "SizeRank           0\n",
       "time               0\n",
       "value              0\n",
       "dtype: int64"
      ]
     },
     "execution_count": 10,
     "metadata": {},
     "output_type": "execute_result"
    }
   ],
   "source": [
    "# check null values\n",
    "datach.check_null_values()"
   ]
  },
  {
   "cell_type": "markdown",
   "metadata": {},
   "source": [
    "The Metro column has a significant number of missing values, accounting for approximately 6.30% of the total data. This indicates that information regarding metropolitan areas is incomplete for some entries."
   ]
  },
  {
   "cell_type": "code",
   "execution_count": 11,
   "metadata": {},
   "outputs": [],
   "source": [
    "# Initialize the DataCleaner with cleaned data\n",
    "cleaner = DataCleaner(clean_data)"
   ]
  },
  {
   "cell_type": "code",
   "execution_count": 12,
   "metadata": {},
   "outputs": [],
   "source": [
    "#Dropping the metro column\n",
    "clean_data = clean_data.drop(['Metro'], axis=1)"
   ]
  },
  {
   "cell_type": "code",
   "execution_count": 13,
   "metadata": {},
   "outputs": [],
   "source": [
    "clean_data = cleaner.remove_outliers('value')"
   ]
  },
  {
   "cell_type": "code",
   "execution_count": 14,
   "metadata": {},
   "outputs": [
    {
     "data": {
      "text/html": [
       "<div>\n",
       "<style scoped>\n",
       "    .dataframe tbody tr th:only-of-type {\n",
       "        vertical-align: middle;\n",
       "    }\n",
       "\n",
       "    .dataframe tbody tr th {\n",
       "        vertical-align: top;\n",
       "    }\n",
       "\n",
       "    .dataframe thead th {\n",
       "        text-align: right;\n",
       "    }\n",
       "</style>\n",
       "<table border=\"1\" class=\"dataframe\">\n",
       "  <thead>\n",
       "    <tr style=\"text-align: right;\">\n",
       "      <th></th>\n",
       "      <th>RegionID</th>\n",
       "      <th>RegionName</th>\n",
       "      <th>City</th>\n",
       "      <th>State</th>\n",
       "      <th>Metro</th>\n",
       "      <th>CountyName</th>\n",
       "      <th>SizeRank</th>\n",
       "      <th>time</th>\n",
       "      <th>value</th>\n",
       "    </tr>\n",
       "  </thead>\n",
       "  <tbody>\n",
       "    <tr>\n",
       "      <th>0</th>\n",
       "      <td>84654</td>\n",
       "      <td>60657</td>\n",
       "      <td>Chicago</td>\n",
       "      <td>IL</td>\n",
       "      <td>Chicago</td>\n",
       "      <td>Cook</td>\n",
       "      <td>1</td>\n",
       "      <td>1996-04-01</td>\n",
       "      <td>334200.0</td>\n",
       "    </tr>\n",
       "    <tr>\n",
       "      <th>1</th>\n",
       "      <td>90668</td>\n",
       "      <td>75070</td>\n",
       "      <td>McKinney</td>\n",
       "      <td>TX</td>\n",
       "      <td>Dallas-Fort Worth</td>\n",
       "      <td>Collin</td>\n",
       "      <td>2</td>\n",
       "      <td>1996-04-01</td>\n",
       "      <td>235700.0</td>\n",
       "    </tr>\n",
       "    <tr>\n",
       "      <th>2</th>\n",
       "      <td>91982</td>\n",
       "      <td>77494</td>\n",
       "      <td>Katy</td>\n",
       "      <td>TX</td>\n",
       "      <td>Houston</td>\n",
       "      <td>Harris</td>\n",
       "      <td>3</td>\n",
       "      <td>1996-04-01</td>\n",
       "      <td>210400.0</td>\n",
       "    </tr>\n",
       "    <tr>\n",
       "      <th>4</th>\n",
       "      <td>93144</td>\n",
       "      <td>79936</td>\n",
       "      <td>El Paso</td>\n",
       "      <td>TX</td>\n",
       "      <td>El Paso</td>\n",
       "      <td>El Paso</td>\n",
       "      <td>5</td>\n",
       "      <td>1996-04-01</td>\n",
       "      <td>77300.0</td>\n",
       "    </tr>\n",
       "    <tr>\n",
       "      <th>5</th>\n",
       "      <td>91733</td>\n",
       "      <td>77084</td>\n",
       "      <td>Houston</td>\n",
       "      <td>TX</td>\n",
       "      <td>Houston</td>\n",
       "      <td>Harris</td>\n",
       "      <td>6</td>\n",
       "      <td>1996-04-01</td>\n",
       "      <td>95000.0</td>\n",
       "    </tr>\n",
       "  </tbody>\n",
       "</table>\n",
       "</div>"
      ],
      "text/plain": [
       "   RegionID  RegionName      City State              Metro CountyName  \\\n",
       "0     84654       60657   Chicago    IL            Chicago       Cook   \n",
       "1     90668       75070  McKinney    TX  Dallas-Fort Worth     Collin   \n",
       "2     91982       77494      Katy    TX            Houston     Harris   \n",
       "4     93144       79936   El Paso    TX            El Paso    El Paso   \n",
       "5     91733       77084   Houston    TX            Houston     Harris   \n",
       "\n",
       "   SizeRank       time     value  \n",
       "0         1 1996-04-01  334200.0  \n",
       "1         2 1996-04-01  235700.0  \n",
       "2         3 1996-04-01  210400.0  \n",
       "4         5 1996-04-01   77300.0  \n",
       "5         6 1996-04-01   95000.0  "
      ]
     },
     "execution_count": 14,
     "metadata": {},
     "output_type": "execute_result"
    }
   ],
   "source": [
    "#checking the first few rows\n",
    "clean_data.head()"
   ]
  },
  {
   "cell_type": "markdown",
   "metadata": {},
   "source": [
    "\n",
    "Detect Outliers Identifying data points that are significantly different from others.\n",
    "Treat Outliers: Deciding whether to remove, correct or keep outliers based on the context of the analysis."
   ]
  },
  {
   "cell_type": "markdown",
   "metadata": {},
   "source": [
    "## d) EXPLORATORY DATA ANALYSIS"
   ]
  },
  {
   "cell_type": "markdown",
   "metadata": {},
   "source": [
    "EDA in time series analysis involves ploting of the house prices values against the time which is the index inorder to see patterns. Exploring for trends either upwards, downwards, stationary or cyclic trends. \n",
    "Seasonality is also checked since it affects the choice of modelling. Both yearly and quarterly deacde will be considered.\n",
    "unexpected trends will also be factored in.\n"
   ]
  },
  {
   "cell_type": "markdown",
   "metadata": {},
   "source": [
    "The time column datatype is date-time - setting the time column as an index."
   ]
  },
  {
   "cell_type": "code",
   "execution_count": 19,
   "metadata": {},
   "outputs": [
    {
     "data": {
      "text/plain": [
       "RegionID               int64\n",
       "RegionName             int64\n",
       "City                  object\n",
       "State                 object\n",
       "CountyName            object\n",
       "SizeRank               int64\n",
       "time          datetime64[ns]\n",
       "value                float64\n",
       "dtype: object"
      ]
     },
     "execution_count": 19,
     "metadata": {},
     "output_type": "execute_result"
    }
   ],
   "source": [
    "clean_data.dtypes"
   ]
  },
  {
   "cell_type": "code",
   "execution_count": 15,
   "metadata": {},
   "outputs": [],
   "source": [
    "clean_data_indexed = clean_data.set_index(\"time\")"
   ]
  },
  {
   "cell_type": "markdown",
   "metadata": {},
   "source": [
    "Checking for the time period of the entire dataset"
   ]
  },
  {
   "cell_type": "code",
   "execution_count": 160,
   "metadata": {},
   "outputs": [
    {
     "data": {
      "text/html": [
       "<div>\n",
       "<style scoped>\n",
       "    .dataframe tbody tr th:only-of-type {\n",
       "        vertical-align: middle;\n",
       "    }\n",
       "\n",
       "    .dataframe tbody tr th {\n",
       "        vertical-align: top;\n",
       "    }\n",
       "\n",
       "    .dataframe thead th {\n",
       "        text-align: right;\n",
       "    }\n",
       "</style>\n",
       "<table border=\"1\" class=\"dataframe\">\n",
       "  <thead>\n",
       "    <tr style=\"text-align: right;\">\n",
       "      <th></th>\n",
       "      <th>RegionID</th>\n",
       "      <th>RegionName</th>\n",
       "      <th>City</th>\n",
       "      <th>State</th>\n",
       "      <th>CountyName</th>\n",
       "      <th>SizeRank</th>\n",
       "      <th>value</th>\n",
       "    </tr>\n",
       "    <tr>\n",
       "      <th>time</th>\n",
       "      <th></th>\n",
       "      <th></th>\n",
       "      <th></th>\n",
       "      <th></th>\n",
       "      <th></th>\n",
       "      <th></th>\n",
       "      <th></th>\n",
       "    </tr>\n",
       "  </thead>\n",
       "  <tbody>\n",
       "    <tr>\n",
       "      <th>1996-04-01</th>\n",
       "      <td>84654</td>\n",
       "      <td>60657</td>\n",
       "      <td>Chicago</td>\n",
       "      <td>IL</td>\n",
       "      <td>Cook</td>\n",
       "      <td>1</td>\n",
       "      <td>334200.0</td>\n",
       "    </tr>\n",
       "    <tr>\n",
       "      <th>1996-04-01</th>\n",
       "      <td>90668</td>\n",
       "      <td>75070</td>\n",
       "      <td>McKinney</td>\n",
       "      <td>TX</td>\n",
       "      <td>Collin</td>\n",
       "      <td>2</td>\n",
       "      <td>235700.0</td>\n",
       "    </tr>\n",
       "    <tr>\n",
       "      <th>1996-04-01</th>\n",
       "      <td>91982</td>\n",
       "      <td>77494</td>\n",
       "      <td>Katy</td>\n",
       "      <td>TX</td>\n",
       "      <td>Harris</td>\n",
       "      <td>3</td>\n",
       "      <td>210400.0</td>\n",
       "    </tr>\n",
       "    <tr>\n",
       "      <th>1996-04-01</th>\n",
       "      <td>84616</td>\n",
       "      <td>60614</td>\n",
       "      <td>Chicago</td>\n",
       "      <td>IL</td>\n",
       "      <td>Cook</td>\n",
       "      <td>4</td>\n",
       "      <td>498100.0</td>\n",
       "    </tr>\n",
       "    <tr>\n",
       "      <th>1996-04-01</th>\n",
       "      <td>93144</td>\n",
       "      <td>79936</td>\n",
       "      <td>El Paso</td>\n",
       "      <td>TX</td>\n",
       "      <td>El Paso</td>\n",
       "      <td>5</td>\n",
       "      <td>77300.0</td>\n",
       "    </tr>\n",
       "    <tr>\n",
       "      <th>...</th>\n",
       "      <td>...</td>\n",
       "      <td>...</td>\n",
       "      <td>...</td>\n",
       "      <td>...</td>\n",
       "      <td>...</td>\n",
       "      <td>...</td>\n",
       "      <td>...</td>\n",
       "    </tr>\n",
       "    <tr>\n",
       "      <th>2018-04-01</th>\n",
       "      <td>58333</td>\n",
       "      <td>1338</td>\n",
       "      <td>Ashfield</td>\n",
       "      <td>MA</td>\n",
       "      <td>Franklin</td>\n",
       "      <td>14719</td>\n",
       "      <td>209300.0</td>\n",
       "    </tr>\n",
       "    <tr>\n",
       "      <th>2018-04-01</th>\n",
       "      <td>59107</td>\n",
       "      <td>3293</td>\n",
       "      <td>Woodstock</td>\n",
       "      <td>NH</td>\n",
       "      <td>Grafton</td>\n",
       "      <td>14720</td>\n",
       "      <td>225800.0</td>\n",
       "    </tr>\n",
       "    <tr>\n",
       "      <th>2018-04-01</th>\n",
       "      <td>75672</td>\n",
       "      <td>40404</td>\n",
       "      <td>Berea</td>\n",
       "      <td>KY</td>\n",
       "      <td>Madison</td>\n",
       "      <td>14721</td>\n",
       "      <td>133400.0</td>\n",
       "    </tr>\n",
       "    <tr>\n",
       "      <th>2018-04-01</th>\n",
       "      <td>93733</td>\n",
       "      <td>81225</td>\n",
       "      <td>Mount Crested Butte</td>\n",
       "      <td>CO</td>\n",
       "      <td>Gunnison</td>\n",
       "      <td>14722</td>\n",
       "      <td>664400.0</td>\n",
       "    </tr>\n",
       "    <tr>\n",
       "      <th>2018-04-01</th>\n",
       "      <td>95851</td>\n",
       "      <td>89155</td>\n",
       "      <td>Mesquite</td>\n",
       "      <td>NV</td>\n",
       "      <td>Clark</td>\n",
       "      <td>14723</td>\n",
       "      <td>357200.0</td>\n",
       "    </tr>\n",
       "  </tbody>\n",
       "</table>\n",
       "<p>3744704 rows × 7 columns</p>\n",
       "</div>"
      ],
      "text/plain": [
       "            RegionID  RegionName                 City State CountyName  \\\n",
       "time                                                                     \n",
       "1996-04-01     84654       60657              Chicago    IL       Cook   \n",
       "1996-04-01     90668       75070             McKinney    TX     Collin   \n",
       "1996-04-01     91982       77494                 Katy    TX     Harris   \n",
       "1996-04-01     84616       60614              Chicago    IL       Cook   \n",
       "1996-04-01     93144       79936              El Paso    TX    El Paso   \n",
       "...              ...         ...                  ...   ...        ...   \n",
       "2018-04-01     58333        1338             Ashfield    MA   Franklin   \n",
       "2018-04-01     59107        3293            Woodstock    NH    Grafton   \n",
       "2018-04-01     75672       40404                Berea    KY    Madison   \n",
       "2018-04-01     93733       81225  Mount Crested Butte    CO   Gunnison   \n",
       "2018-04-01     95851       89155             Mesquite    NV      Clark   \n",
       "\n",
       "            SizeRank     value  \n",
       "time                            \n",
       "1996-04-01         1  334200.0  \n",
       "1996-04-01         2  235700.0  \n",
       "1996-04-01         3  210400.0  \n",
       "1996-04-01         4  498100.0  \n",
       "1996-04-01         5   77300.0  \n",
       "...              ...       ...  \n",
       "2018-04-01     14719  209300.0  \n",
       "2018-04-01     14720  225800.0  \n",
       "2018-04-01     14721  133400.0  \n",
       "2018-04-01     14722  664400.0  \n",
       "2018-04-01     14723  357200.0  \n",
       "\n",
       "[3744704 rows x 7 columns]"
      ]
     },
     "execution_count": 160,
     "metadata": {},
     "output_type": "execute_result"
    }
   ],
   "source": [
    "clean_data_indexed"
   ]
  },
  {
   "cell_type": "markdown",
   "metadata": {},
   "source": [
    "Checking the limits of the value column"
   ]
  },
  {
   "cell_type": "code",
   "execution_count": 16,
   "metadata": {},
   "outputs": [
    {
     "data": {
      "text/plain": [
       "count    3.458660e+06\n",
       "mean     1.624419e+05\n",
       "std      8.982673e+04\n",
       "min      1.130000e+04\n",
       "25%      9.430000e+04\n",
       "50%      1.393000e+05\n",
       "75%      2.074000e+05\n",
       "max      4.461000e+05\n",
       "Name: value, dtype: float64"
      ]
     },
     "execution_count": 16,
     "metadata": {},
     "output_type": "execute_result"
    }
   ],
   "source": [
    "clean_data_indexed['value'].describe()"
   ]
  },
  {
   "cell_type": "markdown",
   "metadata": {},
   "source": [
    "\n",
    "* The mean price is $207,606.40\n",
    "\n",
    "* The Minimum price is $11,300\n",
    "\n",
    "* The median price $147,600\n",
    "\n",
    "* The maximum house value is $19,314,900"
   ]
  },
  {
   "cell_type": "markdown",
   "metadata": {},
   "source": [
    "Creating an object instance of the class TimeSeriesAnalyzer called analyzer."
   ]
  },
  {
   "cell_type": "code",
   "execution_count": 162,
   "metadata": {},
   "outputs": [],
   "source": [
    "analyzer = TimeSeriesAnalyzer(clean_data_indexed, value_column='value')"
   ]
  },
  {
   "cell_type": "markdown",
   "metadata": {},
   "source": [
    "Ploting the overall time series from 1996 to 2018 shows an upward trend over the years, with very little fluctuations seen."
   ]
  },
  {
   "cell_type": "markdown",
   "metadata": {},
   "source": [
    "### Trend of the entire time series dataset \n",
    "\n",
    "from 1996 April to 2018 Aprl shows a general upward trend with a spike in 2004 and 2016"
   ]
  },
  {
   "cell_type": "code",
   "execution_count": 163,
   "metadata": {},
   "outputs": [
    {
     "data": {
      "image/png": "[encoded data removed]",
      "text/plain": [
       "<Figure size 864x288 with 1 Axes>"
      ]
     },
     "metadata": {
      "needs_background": "light"
     },
     "output_type": "display_data"
    }
   ],
   "source": [
    "# 1. Plot overall graph\n",
    "analyzer.plot_overall(xlim=('1996-04-01', '2018-04-01'), ylim=(900, 500000), title='Overall Time Series')\n"
   ]
  },
  {
   "cell_type": "code",
   "execution_count": 164,
   "metadata": {},
   "outputs": [
    {
     "data": {
      "image/png": "[encoded data removed]",
      "text/plain": [
       "<Figure size 1008x504 with 1 Axes>"
      ]
     },
     "metadata": {
      "needs_background": "light"
     },
     "output_type": "display_data"
    }
   ],
   "source": [
    "\n",
    "analyzer.plot_series(xlim=('1996-04-01', '2018-04-01'), ylim=(9000, 20000000), title='Overall Time Series')"
   ]
  },
  {
   "cell_type": "code",
   "execution_count": 165,
   "metadata": {},
   "outputs": [
    {
     "data": {
      "image/png": "[encoded data removed]",
      "text/plain": [
       "<Figure size 1008x504 with 1 Axes>"
      ]
     },
     "metadata": {
      "needs_background": "light"
     },
     "output_type": "display_data"
    }
   ],
   "source": [
    "analyzer.plot_series(xlim=('1996-04-01', '2006-04-01'), ylim=(9000, 20000000), title='1996 to 2006 Time Series Plot')"
   ]
  },
  {
   "cell_type": "code",
   "execution_count": 166,
   "metadata": {},
   "outputs": [
    {
     "data": {
      "image/png": "[encoded data removed]",
      "text/plain": [
       "<Figure size 1008x504 with 1 Axes>"
      ]
     },
     "metadata": {
      "needs_background": "light"
     },
     "output_type": "display_data"
    }
   ],
   "source": [
    "analyzer.plot_series(xlim=('1996-04-01', '1997-04-01'), ylim=(9000, 20000000), title='One year 1996 to 1997 Time series plot')"
   ]
  },
  {
   "cell_type": "code",
   "execution_count": 167,
   "metadata": {},
   "outputs": [
    {
     "data": {
      "image/png": "[encoded data removed]",
      "text/plain": [
       "<Figure size 1008x504 with 1 Axes>"
      ]
     },
     "metadata": {
      "needs_background": "light"
     },
     "output_type": "display_data"
    }
   ],
   "source": [
    "analyzer.plot_series(xlim=('1996-04-01', '1996-08-01'), ylim=(9000, 20000000), title='Time serie plot from 1996-04 to 1996-08')"
   ]
  },
  {
   "cell_type": "markdown",
   "metadata": {},
   "source": [
    "As shown the time series dataset plots show some form of seasonality that can be explained by the several fluctuations.\n",
    "Narrowing down the time series plot from 1996 to 2006, then from 1996 to 1997 and further from 1996-04 to 1996-08 it shows that there is seasonality after every one month as indicated above.\n"
   ]
  },
  {
   "cell_type": "markdown",
   "metadata": {},
   "source": [
    "### A close up look\n"
   ]
  },
  {
   "cell_type": "markdown",
   "metadata": {},
   "source": [
    "Tread from 1996 to 2000 shows an almost strationary trend."
   ]
  },
  {
   "cell_type": "code",
   "execution_count": 168,
   "metadata": {},
   "outputs": [
    {
     "data": {
      "image/png": "[encoded data removed]",
      "text/plain": [
       "<Figure size 864x288 with 1 Axes>"
      ]
     },
     "metadata": {
      "needs_background": "light"
     },
     "output_type": "display_data"
    }
   ],
   "source": [
    "#Plot from 1996 to 2000\n",
    "analyzer.plot_section(xlim=('1996-04-01', '2000-04-01'), ylim=(900, 500000), title='1996-04 to 2000-04 Time Series')\n"
   ]
  },
  {
   "cell_type": "code",
   "execution_count": 169,
   "metadata": {},
   "outputs": [
    {
     "data": {
      "image/png": "[encoded data removed]",
      "text/plain": [
       "<Figure size 864x288 with 1 Axes>"
      ]
     },
     "metadata": {
      "needs_background": "light"
     },
     "output_type": "display_data"
    }
   ],
   "source": [
    "# Plot for 2000 to 1996\n",
    "analyzer.plot_section(xlim=('2000-04-01', '2004-04-01'), ylim=(900, 500000), title='2000-04 to 2004-04 Time Series')"
   ]
  },
  {
   "cell_type": "markdown",
   "metadata": {},
   "source": [
    "2000-04 to 2004-04 Time Series plot shows there is gradual upwards trend , with a very small slope ."
   ]
  },
  {
   "cell_type": "code",
   "execution_count": 170,
   "metadata": {},
   "outputs": [
    {
     "data": {
      "image/png": "[encoded data removed]",
      "text/plain": [
       "<Figure size 864x288 with 1 Axes>"
      ]
     },
     "metadata": {
      "needs_background": "light"
     },
     "output_type": "display_data"
    }
   ],
   "source": [
    "#2004-04 to 2008-04 Time Series plot\n",
    "analyzer.plot_section(xlim=('2004-04-01', '2008-04-01'), ylim=(900, 500000), title='Time series plot from 2004 to 2008')"
   ]
  },
  {
   "cell_type": "markdown",
   "metadata": {},
   "source": [
    "The trends from the year 2004 and 2008 show  a slight increase at 2004 from approximately 0.15M to 0.21M in value ."
   ]
  },
  {
   "cell_type": "markdown",
   "metadata": {},
   "source": [
    "Trend from 2012 to 2018"
   ]
  },
  {
   "cell_type": "code",
   "execution_count": 171,
   "metadata": {},
   "outputs": [
    {
     "data": {
      "image/png": "[encoded data removed]",
      "text/plain": [
       "<Figure size 864x288 with 1 Axes>"
      ]
     },
     "metadata": {
      "needs_background": "light"
     },
     "output_type": "display_data"
    }
   ],
   "source": [
    "#2012-04 to 2018-04 Time Series plot\n",
    "analyzer.plot_section(xlim=('2012-04-01', '2018-04-01'), ylim=(900, 500000), title='Time series plot from 2012 to 2018')"
   ]
  },
  {
   "cell_type": "markdown",
   "metadata": {},
   "source": [
    "There is an upward trend from 2012 to 2018, reaching its highest peak at 2018."
   ]
  },
  {
   "cell_type": "markdown",
   "metadata": {},
   "source": [
    "### Checking for trends using resampling"
   ]
  },
  {
   "cell_type": "code",
   "execution_count": 172,
   "metadata": {},
   "outputs": [
    {
     "data": {
      "image/png": "[encoded data removed]",
      "text/plain": [
       "<Figure size 864x288 with 1 Axes>"
      ]
     },
     "metadata": {
      "needs_background": "light"
     },
     "output_type": "display_data"
    }
   ],
   "source": [
    "#Using resampling tools to look at annual trends.\n",
    "analyzer.plot_resampled(rule = \"A\",   title='Annual trend')"
   ]
  },
  {
   "cell_type": "markdown",
   "metadata": {},
   "source": [
    "Annual trends show an upwards curve with:\n",
    "* An upward trend from 2000 to 2008 to about 250000 as price value.\n",
    "* A slight Downward trend between 2008 and 2012 and eventually an upward trend from 2016"
   ]
  },
  {
   "cell_type": "markdown",
   "metadata": {},
   "source": [
    "### Time series smoothening"
   ]
  },
  {
   "cell_type": "markdown",
   "metadata": {},
   "source": [
    "Up close, the data is not very smooth, we will hence use time series smoothing techniques to smooth out our data and narrow down on the best technique to use."
   ]
  },
  {
   "cell_type": "markdown",
   "metadata": {},
   "source": [
    "Simple moving average (SMA) and Exponential weighted Moving average (EWMN) are used below and the following is their plots.\n",
    "Below is a function that creates columns with values smoothed using SMA and EWMN."
   ]
  },
  {
   "cell_type": "code",
   "execution_count": 17,
   "metadata": {},
   "outputs": [],
   "source": [
    "#Function applying Simple Moving Average (SMA) and Exponential Moving Average (EWMA) to the data.\n",
    "\n",
    "def smooth_data(data, time, value_column, sma_window, ewma_span):\n",
    "\n",
    "    # Calculate Simple Moving Average (SMA)\n",
    "    data['SMA'] = data[value_column].rolling(window=sma_window).mean()\n",
    "    \n",
    "    # Calculate Exponential Moving Average (EWMA)\n",
    "    data['EWMA'] = data[value_column].ewm(span=ewma_span, adjust=False).mean()\n",
    "    \n",
    "    # Create a new DataFrame with 'time', 'SMA', and 'EWMA' columns\n",
    "    smoothed_data = data[[time,value_column, 'SMA', 'EWMA']].copy()\n",
    "    \n",
    "    # Ensure 'time' column is included by resetting index\n",
    "    smoothed_data.set_index(time, inplace=True)\n",
    "    \n",
    "    \n",
    "    return smoothed_data"
   ]
  },
  {
   "cell_type": "code",
   "execution_count": 18,
   "metadata": {},
   "outputs": [
    {
     "data": {
      "text/html": [
       "<div>\n",
       "<style scoped>\n",
       "    .dataframe tbody tr th:only-of-type {\n",
       "        vertical-align: middle;\n",
       "    }\n",
       "\n",
       "    .dataframe tbody tr th {\n",
       "        vertical-align: top;\n",
       "    }\n",
       "\n",
       "    .dataframe thead th {\n",
       "        text-align: right;\n",
       "    }\n",
       "</style>\n",
       "<table border=\"1\" class=\"dataframe\">\n",
       "  <thead>\n",
       "    <tr style=\"text-align: right;\">\n",
       "      <th></th>\n",
       "      <th>value</th>\n",
       "      <th>SMA</th>\n",
       "      <th>EWMA</th>\n",
       "    </tr>\n",
       "    <tr>\n",
       "      <th>time</th>\n",
       "      <th></th>\n",
       "      <th></th>\n",
       "      <th></th>\n",
       "    </tr>\n",
       "  </thead>\n",
       "  <tbody>\n",
       "    <tr>\n",
       "      <th>1996-04-01</th>\n",
       "      <td>334200.0</td>\n",
       "      <td>NaN</td>\n",
       "      <td>334200.000000</td>\n",
       "    </tr>\n",
       "    <tr>\n",
       "      <th>1996-04-01</th>\n",
       "      <td>235700.0</td>\n",
       "      <td>NaN</td>\n",
       "      <td>301366.666667</td>\n",
       "    </tr>\n",
       "    <tr>\n",
       "      <th>1996-04-01</th>\n",
       "      <td>210400.0</td>\n",
       "      <td>NaN</td>\n",
       "      <td>271044.444444</td>\n",
       "    </tr>\n",
       "    <tr>\n",
       "      <th>1996-04-01</th>\n",
       "      <td>77300.0</td>\n",
       "      <td>NaN</td>\n",
       "      <td>206462.962963</td>\n",
       "    </tr>\n",
       "    <tr>\n",
       "      <th>1996-04-01</th>\n",
       "      <td>95000.0</td>\n",
       "      <td>190520.0</td>\n",
       "      <td>169308.641975</td>\n",
       "    </tr>\n",
       "    <tr>\n",
       "      <th>...</th>\n",
       "      <td>...</td>\n",
       "      <td>...</td>\n",
       "      <td>...</td>\n",
       "    </tr>\n",
       "    <tr>\n",
       "      <th>2018-04-01</th>\n",
       "      <td>117700.0</td>\n",
       "      <td>207760.0</td>\n",
       "      <td>202581.494129</td>\n",
       "    </tr>\n",
       "    <tr>\n",
       "      <th>2018-04-01</th>\n",
       "      <td>209300.0</td>\n",
       "      <td>224120.0</td>\n",
       "      <td>204820.996086</td>\n",
       "    </tr>\n",
       "    <tr>\n",
       "      <th>2018-04-01</th>\n",
       "      <td>225800.0</td>\n",
       "      <td>215920.0</td>\n",
       "      <td>211813.997391</td>\n",
       "    </tr>\n",
       "    <tr>\n",
       "      <th>2018-04-01</th>\n",
       "      <td>133400.0</td>\n",
       "      <td>207100.0</td>\n",
       "      <td>185675.998261</td>\n",
       "    </tr>\n",
       "    <tr>\n",
       "      <th>2018-04-01</th>\n",
       "      <td>357200.0</td>\n",
       "      <td>208680.0</td>\n",
       "      <td>242850.665507</td>\n",
       "    </tr>\n",
       "  </tbody>\n",
       "</table>\n",
       "<p>3458660 rows × 3 columns</p>\n",
       "</div>"
      ],
      "text/plain": [
       "               value       SMA           EWMA\n",
       "time                                         \n",
       "1996-04-01  334200.0       NaN  334200.000000\n",
       "1996-04-01  235700.0       NaN  301366.666667\n",
       "1996-04-01  210400.0       NaN  271044.444444\n",
       "1996-04-01   77300.0       NaN  206462.962963\n",
       "1996-04-01   95000.0  190520.0  169308.641975\n",
       "...              ...       ...            ...\n",
       "2018-04-01  117700.0  207760.0  202581.494129\n",
       "2018-04-01  209300.0  224120.0  204820.996086\n",
       "2018-04-01  225800.0  215920.0  211813.997391\n",
       "2018-04-01  133400.0  207100.0  185675.998261\n",
       "2018-04-01  357200.0  208680.0  242850.665507\n",
       "\n",
       "[3458660 rows x 3 columns]"
      ]
     },
     "execution_count": 18,
     "metadata": {},
     "output_type": "execute_result"
    }
   ],
   "source": [
    "# Call the smooth_data function\n",
    "smoothed_data = smooth_data(clean_data, time = \"time\" , value_column='value', sma_window=5, ewma_span=5)\n",
    "\n",
    "smoothed_data"
   ]
  },
  {
   "cell_type": "markdown",
   "metadata": {},
   "source": [
    "Smoothed_data is a dataframe containing the SMA columns and EWMA columns. \n",
    "SMA was done with a window of 5 and EWMA was done with a span of 5. \n",
    "The first five values of the sma columns are zeros."
   ]
  },
  {
   "cell_type": "code",
   "execution_count": 175,
   "metadata": {},
   "outputs": [
    {
     "data": {
      "image/png": "[encoded data removed]",
      "text/plain": [
       "<Figure size 864x288 with 1 Axes>"
      ]
     },
     "metadata": {
      "needs_background": "light"
     },
     "output_type": "display_data"
    }
   ],
   "source": [
    "#Ploting the data that has been smoothed out.\n",
    "analyzer.plot_smoothing(window_sma=5, span_ewma =5)"
   ]
  },
  {
   "cell_type": "markdown",
   "metadata": {},
   "source": [
    "Both techniques are effective but EWMA is better since it smoothens out the original time series dataset plot better and it is more responsive to short term fluctuations as compaired to SMA. This is because SMA puts more pressure on old data while EWMA  gives more relevance to recent observations of the price column value."
   ]
  },
  {
   "cell_type": "markdown",
   "metadata": {},
   "source": [
    "### Seasonal decomposition."
   ]
  },
  {
   "cell_type": "markdown",
   "metadata": {},
   "source": [
    "Checking for seasonality in our dataset. This affects the type of machine learning algorithms to use."
   ]
  },
  {
   "cell_type": "code",
   "execution_count": 176,
   "metadata": {},
   "outputs": [
    {
     "data": {
      "image/png": "[encoded data removed]",
      "text/plain": [
       "<Figure size 864x576 with 4 Axes>"
      ]
     },
     "metadata": {
      "needs_background": "light"
     },
     "output_type": "display_data"
    }
   ],
   "source": [
    "#Calling the function to perform seasonal decomposition.\n",
    "analyzer.plot_seasonal_decomposition( df = clean_data_indexed, column= 'value')"
   ]
  },
  {
   "cell_type": "markdown",
   "metadata": {},
   "source": [
    "* The first image shows the entire time series dataset ploted.\n",
    "\n",
    "* The trend plot shows a general upward trend as the years increase with a high slope peak occuring at 2004, and a gradual increase from then with few downward trends.\n",
    "\n",
    "* There is an almost stationary trend between 1996 and 2004 of the house prices.\n",
    "\n",
    "* There is some is some patterns that repeat within a fixed period indicating seasonality.\n",
    "\n",
    "* Residuals are seen to increase as the years increase; noise is increasing. They are closer to zero before 2004, and start expanding from then."
   ]
  },
  {
   "cell_type": "markdown",
   "metadata": {},
   "source": [
    "## TIME SERIES MODELLING"
   ]
  },
  {
   "cell_type": "markdown",
   "metadata": {},
   "source": [
    "#### 1) Arima Model"
   ]
  },
  {
   "cell_type": "code",
   "execution_count": 19,
   "metadata": {},
   "outputs": [
    {
     "data": {
      "text/html": [
       "<div>\n",
       "<style scoped>\n",
       "    .dataframe tbody tr th:only-of-type {\n",
       "        vertical-align: middle;\n",
       "    }\n",
       "\n",
       "    .dataframe tbody tr th {\n",
       "        vertical-align: top;\n",
       "    }\n",
       "\n",
       "    .dataframe thead th {\n",
       "        text-align: right;\n",
       "    }\n",
       "</style>\n",
       "<table border=\"1\" class=\"dataframe\">\n",
       "  <thead>\n",
       "    <tr style=\"text-align: right;\">\n",
       "      <th></th>\n",
       "      <th>EWMA</th>\n",
       "    </tr>\n",
       "    <tr>\n",
       "      <th>time</th>\n",
       "      <th></th>\n",
       "    </tr>\n",
       "  </thead>\n",
       "  <tbody>\n",
       "    <tr>\n",
       "      <th>1996-04-30</th>\n",
       "      <td>113864.717271</td>\n",
       "    </tr>\n",
       "    <tr>\n",
       "      <th>1996-05-31</th>\n",
       "      <td>113895.487050</td>\n",
       "    </tr>\n",
       "    <tr>\n",
       "      <th>1996-06-30</th>\n",
       "      <td>113977.564198</td>\n",
       "    </tr>\n",
       "    <tr>\n",
       "      <th>1996-07-31</th>\n",
       "      <td>114105.418154</td>\n",
       "    </tr>\n",
       "    <tr>\n",
       "      <th>1996-08-31</th>\n",
       "      <td>114219.449332</td>\n",
       "    </tr>\n",
       "    <tr>\n",
       "      <th>...</th>\n",
       "      <td>...</td>\n",
       "    </tr>\n",
       "    <tr>\n",
       "      <th>2017-12-31</th>\n",
       "      <td>193966.825572</td>\n",
       "    </tr>\n",
       "    <tr>\n",
       "      <th>2018-01-31</th>\n",
       "      <td>194496.683775</td>\n",
       "    </tr>\n",
       "    <tr>\n",
       "      <th>2018-02-28</th>\n",
       "      <td>195058.085676</td>\n",
       "    </tr>\n",
       "    <tr>\n",
       "      <th>2018-03-31</th>\n",
       "      <td>196028.052361</td>\n",
       "    </tr>\n",
       "    <tr>\n",
       "      <th>2018-04-30</th>\n",
       "      <td>196770.596625</td>\n",
       "    </tr>\n",
       "  </tbody>\n",
       "</table>\n",
       "<p>265 rows × 1 columns</p>\n",
       "</div>"
      ],
      "text/plain": [
       "                     EWMA\n",
       "time                     \n",
       "1996-04-30  113864.717271\n",
       "1996-05-31  113895.487050\n",
       "1996-06-30  113977.564198\n",
       "1996-07-31  114105.418154\n",
       "1996-08-31  114219.449332\n",
       "...                   ...\n",
       "2017-12-31  193966.825572\n",
       "2018-01-31  194496.683775\n",
       "2018-02-28  195058.085676\n",
       "2018-03-31  196028.052361\n",
       "2018-04-30  196770.596625\n",
       "\n",
       "[265 rows x 1 columns]"
      ]
     },
     "execution_count": 19,
     "metadata": {},
     "output_type": "execute_result"
    }
   ],
   "source": [
    "#Further Data Preparation For Modelling\n",
    "model_data = smoothed_data.drop(columns=['value', 'SMA'], axis=1)\n",
    "\n",
    "model_data = model_data.resample('M').mean()\n",
    "model_data"
   ]
  },
  {
   "cell_type": "code",
   "execution_count": 20,
   "metadata": {},
   "outputs": [],
   "source": [
    "#Initiate Modeling Class\n",
    "modeler = Modeling()"
   ]
  },
  {
   "cell_type": "code",
   "execution_count": 21,
   "metadata": {},
   "outputs": [
    {
     "name": "stdout",
     "output_type": "stream",
     "text": [
      "P value: 0.30606627379140317\n",
      "Is non stationary\n"
     ]
    }
   ],
   "source": [
    "modeler.check_stationarity(model_data)"
   ]
  },
  {
   "cell_type": "markdown",
   "metadata": {},
   "source": [
    "This shows the dataset has trends and seasonality"
   ]
  },
  {
   "cell_type": "code",
   "execution_count": 22,
   "metadata": {},
   "outputs": [
    {
     "data": {
      "image/png": "[encoded data removed]",
      "text/plain": [
       "<Figure size 720x576 with 2 Axes>"
      ]
     },
     "metadata": {
      "needs_background": "light"
     },
     "output_type": "display_data"
    }
   ],
   "source": [
    "#Ploting the Partial Autocorrelation and Autocorrelation Graphs\n",
    "modeler.plotting(model_data)"
   ]
  },
  {
   "cell_type": "markdown",
   "metadata": {},
   "source": [
    "From the graphs we can conclude the values for p and q as follows\n",
    "* value for p = 1\n",
    "* value for q = 20"
   ]
  },
  {
   "cell_type": "code",
   "execution_count": 23,
   "metadata": {},
   "outputs": [
    {
     "name": "stdout",
     "output_type": "stream",
     "text": [
      "Train shape: (212, 1)\n",
      "Test shape: (53, 1)\n"
     ]
    }
   ],
   "source": [
    "#Spliting the dataset to training and Testing\n",
    "train, test = modeler.Spliting_Data(model_data, test_fraction=0.2)"
   ]
  },
  {
   "cell_type": "markdown",
   "metadata": {},
   "source": [
    "#Using d=1 for the first Arima model\n",
    "order = (1,1,20)\n",
    "\n",
    "#Fiting the Model\n",
    "modeler.arima_modeling(train, test, order)"
   ]
  },
  {
   "cell_type": "code",
   "execution_count": 24,
   "metadata": {},
   "outputs": [
    {
     "name": "stdout",
     "output_type": "stream",
     "text": [
      "\n",
      "AIC value: 3086.93\n",
      "\n",
      "Mean Squared Error (MSE): 83532313.72\n",
      "\n",
      "Root Mean Squareroot Error (RMSE): 9139.6\n"
     ]
    },
    {
     "data": {
      "image/png": "[encoded data removed]",
      "text/plain": [
       "<Figure size 864x432 with 1 Axes>"
      ]
     },
     "metadata": {
      "needs_background": "light"
     },
     "output_type": "display_data"
    },
    {
     "data": {
      "text/plain": [
       "(<statsmodels.tsa.arima.model.ARIMAResultsWrapper at 0x2117f19f100>,\n",
       " 2013-12-31    168899.664576\n",
       " 2014-01-31    169233.340647\n",
       " 2014-02-28    169565.625472\n",
       " 2014-03-31    169900.344849\n",
       " 2014-04-30    170218.702040\n",
       " 2014-05-31    170547.815802\n",
       " 2014-06-30    170863.136117\n",
       " 2014-07-31    171169.889073\n",
       " 2014-08-31    171458.356838\n",
       " 2014-09-30    171718.338223\n",
       " 2014-10-31    171968.460908\n",
       " 2014-11-30    172210.583980\n",
       " 2014-12-31    172441.679603\n",
       " 2015-01-31    172679.772379\n",
       " 2015-02-28    172910.838311\n",
       " 2015-03-31    173141.804712\n",
       " 2015-04-30    173374.815812\n",
       " 2015-05-31    173601.256604\n",
       " 2015-06-30    173820.559970\n",
       " 2015-07-31    174028.178462\n",
       " 2015-08-31    174223.573264\n",
       " 2015-09-30    174407.464054\n",
       " 2015-10-31    174580.528140\n",
       " 2015-11-30    174743.402951\n",
       " 2015-12-31    174896.688389\n",
       " 2016-01-31    175040.949035\n",
       " 2016-02-29    175176.716230\n",
       " 2016-03-31    175304.490033\n",
       " 2016-04-30    175424.741060\n",
       " 2016-05-31    175537.912219\n",
       " 2016-06-30    175644.420344\n",
       " 2016-07-31    175744.657726\n",
       " 2016-08-31    175838.993559\n",
       " 2016-09-30    175927.775300\n",
       " 2016-10-31    176011.329952\n",
       " 2016-11-30    176089.965263\n",
       " 2016-12-31    176163.970862\n",
       " 2017-01-31    176233.619328\n",
       " 2017-02-28    176299.167189\n",
       " 2017-03-31    176360.855873\n",
       " 2017-04-30    176418.912590\n",
       " 2017-05-31    176473.551175\n",
       " 2017-06-30    176524.972874\n",
       " 2017-07-31    176573.367083\n",
       " 2017-08-31    176618.912048\n",
       " 2017-09-30    176661.775519\n",
       " 2017-10-31    176702.115373\n",
       " 2017-11-30    176740.080188\n",
       " 2017-12-31    176775.809797\n",
       " 2018-01-31    176809.435799\n",
       " 2018-02-28    176841.082045\n",
       " 2018-03-31    176870.865096\n",
       " 2018-04-30    176898.894648\n",
       " Freq: M, Name: predicted_mean, dtype: float64)"
      ]
     },
     "execution_count": 24,
     "metadata": {},
     "output_type": "execute_result"
    }
   ],
   "source": [
    "#Using d=2 in the second iteration\n",
    "order1 = (1,1,20)\n",
    "\n",
    "#Fiting the Model\n",
    "modeler.arima_modeling(train, test, order1)"
   ]
  },
  {
   "cell_type": "markdown",
   "metadata": {},
   "source": [
    "Based on the RMSE for every house price forecast our model makes it is off by 9139 dollars"
   ]
  },
  {
   "cell_type": "code",
   "execution_count": 25,
   "metadata": {
    "tags": [
     "parameters"
    ]
   },
   "outputs": [
    {
     "name": "stdout",
     "output_type": "stream",
     "text": [
      "\n",
      "AIC value: 2884.53\n",
      "\n",
      "Mean Squared Error (MSE): 13378723.31\n",
      "\n",
      "Root Mean Squareroot Error (RMSE): 3657.69\n"
     ]
    },
    {
     "data": {
      "image/png": "[encoded data removed]",
      "text/plain": [
       "<Figure size 864x432 with 1 Axes>"
      ]
     },
     "metadata": {
      "needs_background": "light"
     },
     "output_type": "display_data"
    }
   ],
   "source": [
    "#Using d=2 in the second iteration\n",
    "order2 = (1,2,20)\n",
    "\n",
    "#Fiting the Model\n",
    "arima_result, arima_forecast = modeler.arima_modeling(train, test, order2)"
   ]
  },
  {
   "cell_type": "markdown",
   "metadata": {},
   "source": [
    "The second iteration of the ARIMA model is an improvement on the previous with a lower AIC value\n",
    "\n",
    "* For every forecast made, the model is off by 3657 dollars"
   ]
  },
  {
   "cell_type": "code",
   "execution_count": 183,
   "metadata": {},
   "outputs": [],
   "source": [
    "p_values = range(0,3)\n",
    "d_values = range(0,3)\n",
    "q_values = range(0,5)"
   ]
  },
  {
   "cell_type": "code",
   "execution_count": 184,
   "metadata": {},
   "outputs": [],
   "source": [
    "def find_optimal_params(series):\n",
    "  min_aic = np.inf\n",
    "  optimal_params = None\n",
    "\n",
    "  for p in p_values:\n",
    "    for d in d_values:\n",
    "      for q in q_values:\n",
    "        try:\n",
    "          model = ARIMA(series, order=(p, d, q))\n",
    "          result = model.fit()\n",
    "          if result.aic < min_aic:\n",
    "            min_aic = result.aic\n",
    "            optimal_params = (p, d, q)\n",
    "        except:\n",
    "          continue\n",
    "\n",
    "  return optimal_params"
   ]
  },
  {
   "cell_type": "code",
   "execution_count": 185,
   "metadata": {},
   "outputs": [
    {
     "data": {
      "text/plain": [
       "(0, 2, 1)"
      ]
     },
     "execution_count": 185,
     "metadata": {},
     "output_type": "execute_result"
    }
   ],
   "source": [
    "find_optimal_params(model_data)"
   ]
  },
  {
   "cell_type": "markdown",
   "metadata": {},
   "source": [
    "From the iteration, we deduce that the best values for p,d and q are:\n",
    "* p = 0\n",
    "* d = 2\n",
    "* q = 1\n",
    "\n",
    "WE'll make use of the above in the SARIMA models"
   ]
  },
  {
   "cell_type": "markdown",
   "metadata": {},
   "source": [
    "The ARIMA models fail to capture the seasonality in our dataset hence the choice to transition to SARIMA"
   ]
  },
  {
   "cell_type": "markdown",
   "metadata": {},
   "source": [
    "#### 2)  SARIMA MODEL"
   ]
  },
  {
   "cell_type": "code",
   "execution_count": 26,
   "metadata": {},
   "outputs": [],
   "source": [
    "from statsmodels.tsa.statespace.sarimax import SARIMAX"
   ]
  },
  {
   "cell_type": "code",
   "execution_count": 28,
   "metadata": {},
   "outputs": [
    {
     "data": {
      "image/png": "[encoded data removed]",
      "text/plain": [
       "<Figure size 864x432 with 1 Axes>"
      ]
     },
     "metadata": {
      "needs_background": "light"
     },
     "output_type": "display_data"
    }
   ],
   "source": [
    "sarima_result1, sarima_forecast1 = modeler.sarima_model(train, order=(0,2,1), seasonal_order=(0,2,1,12), steps=53)"
   ]
  },
  {
   "cell_type": "markdown",
   "metadata": {},
   "source": [
    "The second iteration of the sarima model we'll do parameter tuning to get the best parameters for p, d and q for the order and seasonal order"
   ]
  },
  {
   "cell_type": "code",
   "execution_count": 36,
   "metadata": {},
   "outputs": [
    {
     "data": {
      "text/html": [
       "<div>\n",
       "<style scoped>\n",
       "    .dataframe tbody tr th:only-of-type {\n",
       "        vertical-align: middle;\n",
       "    }\n",
       "\n",
       "    .dataframe tbody tr th {\n",
       "        vertical-align: top;\n",
       "    }\n",
       "\n",
       "    .dataframe thead th {\n",
       "        text-align: right;\n",
       "    }\n",
       "</style>\n",
       "<table border=\"1\" class=\"dataframe\">\n",
       "  <thead>\n",
       "    <tr style=\"text-align: right;\">\n",
       "      <th></th>\n",
       "      <th>value</th>\n",
       "    </tr>\n",
       "    <tr>\n",
       "      <th>time</th>\n",
       "      <th></th>\n",
       "    </tr>\n",
       "  </thead>\n",
       "  <tbody>\n",
       "    <tr>\n",
       "      <th>1996-04-30</th>\n",
       "      <td>113835.750608</td>\n",
       "    </tr>\n",
       "    <tr>\n",
       "      <th>1996-05-31</th>\n",
       "      <td>113895.525908</td>\n",
       "    </tr>\n",
       "    <tr>\n",
       "      <th>1996-06-30</th>\n",
       "      <td>113977.598408</td>\n",
       "    </tr>\n",
       "    <tr>\n",
       "      <th>1996-07-31</th>\n",
       "      <td>114105.454411</td>\n",
       "    </tr>\n",
       "    <tr>\n",
       "      <th>1996-08-31</th>\n",
       "      <td>114219.488465</td>\n",
       "    </tr>\n",
       "    <tr>\n",
       "      <th>...</th>\n",
       "      <td>...</td>\n",
       "    </tr>\n",
       "    <tr>\n",
       "      <th>2017-12-31</th>\n",
       "      <td>193966.972405</td>\n",
       "    </tr>\n",
       "    <tr>\n",
       "      <th>2018-01-31</th>\n",
       "      <td>194496.788883</td>\n",
       "    </tr>\n",
       "    <tr>\n",
       "      <th>2018-02-28</th>\n",
       "      <td>195058.346444</td>\n",
       "    </tr>\n",
       "    <tr>\n",
       "      <th>2018-03-31</th>\n",
       "      <td>196028.351856</td>\n",
       "    </tr>\n",
       "    <tr>\n",
       "      <th>2018-04-30</th>\n",
       "      <td>196770.753079</td>\n",
       "    </tr>\n",
       "  </tbody>\n",
       "</table>\n",
       "<p>265 rows × 1 columns</p>\n",
       "</div>"
      ],
      "text/plain": [
       "                    value\n",
       "time                     \n",
       "1996-04-30  113835.750608\n",
       "1996-05-31  113895.525908\n",
       "1996-06-30  113977.598408\n",
       "1996-07-31  114105.454411\n",
       "1996-08-31  114219.488465\n",
       "...                   ...\n",
       "2017-12-31  193966.972405\n",
       "2018-01-31  194496.788883\n",
       "2018-02-28  195058.346444\n",
       "2018-03-31  196028.351856\n",
       "2018-04-30  196770.753079\n",
       "\n",
       "[265 rows x 1 columns]"
      ]
     },
     "execution_count": 36,
     "metadata": {},
     "output_type": "execute_result"
    }
   ],
   "source": [
    "#Further Data Preparation For Modelling\n",
    "model_data= smoothed_data.drop(columns=['EWMA', 'SMA'], axis=1)\n",
    "\n",
    "model_data = model_data.resample('M').mean()\n",
    "model_data"
   ]
  },
  {
   "cell_type": "code",
   "execution_count": 37,
   "metadata": {},
   "outputs": [
    {
     "name": "stdout",
     "output_type": "stream",
     "text": [
      "Train shape: (212, 1)\n",
      "Test shape: (53, 1)\n"
     ]
    }
   ],
   "source": [
    "#Spliting the dataset to training and Testing\n",
    "train1, test = modeler.Spliting_Data(model_data, test_fraction=0.2)"
   ]
  },
  {
   "cell_type": "code",
   "execution_count": 38,
   "metadata": {},
   "outputs": [
    {
     "name": "stdout",
     "output_type": "stream",
     "text": [
      "2013-12-31    169017.590971\n",
      "2014-01-31    169355.187281\n",
      "2014-02-28    169749.034798\n",
      "2014-03-31    170193.830692\n",
      "2014-04-30    170684.128446\n",
      "2014-05-31    171399.723781\n",
      "2014-06-30    171814.142003\n",
      "2014-07-31    172381.833751\n",
      "2014-08-31    173006.694526\n",
      "2014-09-30    173535.336491\n",
      "2014-10-31    174039.945393\n",
      "2014-11-30    174438.212085\n",
      "2014-12-31    174909.401287\n",
      "2015-01-31    175274.519214\n",
      "2015-02-28    175692.663575\n",
      "2015-03-31    176160.152148\n",
      "2015-04-30    176669.256286\n",
      "2015-05-31    177404.685237\n",
      "2015-06-30    177831.930207\n",
      "2015-07-31    178414.979497\n",
      "2015-08-31    179054.194960\n",
      "2015-09-30    179593.502207\n",
      "2015-10-31    180108.594734\n",
      "2015-11-30    180513.374214\n",
      "2015-12-31    180991.775173\n",
      "2016-01-31    181363.647650\n",
      "2016-02-29    181787.897413\n",
      "2016-03-31    182260.697680\n",
      "2016-04-30    182774.808405\n",
      "2016-05-31    183514.224600\n",
      "2016-06-30    183945.856352\n",
      "2016-07-31    184532.192530\n",
      "2016-08-31    185174.251204\n",
      "2016-09-30    185716.466516\n",
      "2016-10-31    186234.008351\n",
      "2016-11-30    186641.456812\n",
      "2016-12-31    187122.019113\n",
      "2017-01-31    187495.777692\n",
      "2017-02-28    187921.706798\n",
      "2017-03-31    188396.036445\n",
      "2017-04-30    188911.475127\n",
      "2017-05-31    189652.162448\n",
      "2017-06-30    190084.797194\n",
      "2017-07-31    190672.137592\n",
      "2017-08-31    191315.111990\n",
      "2017-09-30    191858.087283\n",
      "2017-10-31    192376.335204\n",
      "2017-11-30    192784.337124\n",
      "2017-12-31    193265.432822\n",
      "2018-01-31    193639.677151\n",
      "2018-02-28    194066.042773\n",
      "2018-03-31    194540.759028\n",
      "2018-04-30    195056.550747\n",
      "Freq: M, Name: predicted_mean, dtype: float64\n"
     ]
    }
   ],
   "source": [
    "# Fit SARIMA model\n",
    "sarima_model= SARIMAX(train, order=(1,1,1), seasonal_order=(1,1,1,12))\n",
    "#results\n",
    "sarima_results=sarima_model.fit(disp=True)\n",
    "# Forecast\n",
    "sarima_forecast = sarima_results.forecast(steps=53)\n",
    "print(sarima_forecast)"
   ]
  },
  {
   "cell_type": "code",
   "execution_count": 39,
   "metadata": {},
   "outputs": [
    {
     "data": {
      "image/png": "[encoded data removed]",
      "text/plain": [
       "<Figure size 864x432 with 1 Axes>"
      ]
     },
     "metadata": {
      "needs_background": "light"
     },
     "output_type": "display_data"
    }
   ],
   "source": [
    "plt.figure(figsize=(12, 6))\n",
    "plt.plot(train, label='Train', color='blue')\n",
    "plt.plot(test, label='Test', color='green')\n",
    "plt.plot(test.index, sarima_forecast, label='Forecast', color='red')\n",
    "plt.xlabel('Date')\n",
    "plt.ylabel('Value')\n",
    "plt.title('ARIMA Forecast vs Actual Data')\n",
    "plt.legend()\n",
    "plt.show()"
   ]
  },
  {
   "cell_type": "markdown",
   "metadata": {},
   "source": [
    "### Model Evaluation "
   ]
  },
  {
   "cell_type": "code",
   "execution_count": 40,
   "metadata": {},
   "outputs": [
    {
     "name": "stdout",
     "output_type": "stream",
     "text": [
      "0.8138812187322799\n"
     ]
    }
   ],
   "source": [
    "arima_accuracy = r2_score(test, arima_forecast)\n",
    "print(arima_accuracy)"
   ]
  },
  {
   "cell_type": "markdown",
   "metadata": {},
   "source": [
    "The arima model explains 81% of the variance in forecasting house values"
   ]
  },
  {
   "cell_type": "code",
   "execution_count": 41,
   "metadata": {},
   "outputs": [
    {
     "name": "stdout",
     "output_type": "stream",
     "text": [
      "0.9611789644224589\n"
     ]
    }
   ],
   "source": [
    "sarima_accuracy = r2_score(test, sarima_forecast)\n",
    "print(sarima_accuracy)"
   ]
  },
  {
   "cell_type": "code",
   "execution_count": 42,
   "metadata": {},
   "outputs": [
    {
     "name": "stdout",
     "output_type": "stream",
     "text": [
      "\n",
      "Mean Squared Error (MSE): 2790776.94\n",
      "\n",
      "Root Mean Squareroot Error (RMSE): 1670.56\n"
     ]
    }
   ],
   "source": [
    "mse = round(mean_squared_error(test,sarima_forecast), 2)\n",
    "rmse = round(np.sqrt(mse), 2)\n",
    "\n",
    "print(\"\\nMean Squared Error (MSE):\", mse)\n",
    "print(\"\\nRoot Mean Squareroot Error (RMSE):\", rmse)"
   ]
  },
  {
   "cell_type": "markdown",
   "metadata": {},
   "source": [
    "The best model is the SARIMA model with an r2 score of 96% \n",
    "\n",
    "96% of the variance in forecasting house values is explained by the model\n",
    "\n",
    "With an RMSE of 1663.02, this means that for every forecast made by the model it is off by 1663 dollars which is relatively low compared to the mean house value"
   ]
  },
  {
   "cell_type": "code",
   "execution_count": 43,
   "metadata": {},
   "outputs": [],
   "source": [
    "# Save the model\n",
    "with open('sarima_model.pkl', 'wb') as f:\n",
    "    pickle.dump(sarima_results, f)"
   ]
  },
  {
   "cell_type": "markdown",
   "metadata": {},
   "source": [
    "### Recommendations"
   ]
  },
  {
   "cell_type": "markdown",
   "metadata": {},
   "source": [
    "* Regularly update the SARIMA model with new data to maintain the accuracy of forecasts and adapt to changing market conditions.\n",
    "\n",
    "* Diversify investments across multiple zip codes to mitigate risk and leverage the varying trends in different regions.\n",
    "\n",
    "* Keep track of economic indicators such as interest rates, employment rates, and economic policies that could impact the housing market.\n",
    "\n"
   ]
  },
  {
   "cell_type": "markdown",
   "metadata": {},
   "source": [
    "### Next Steps"
   ]
  },
  {
   "cell_type": "markdown",
   "metadata": {},
   "source": [
    "* Continuously collect and preprocess new data to keep the model updated and improve its forecasting accuracy\n",
    "* Fine-tune the SARIMA model parameters and explore hybrid models to enhance forecasting performance\n",
    "* Present findings and recommendations to stakeholders, incorporating their feedback to refine the investment strategy.\n",
    "* Start implementing the recommended investment strategy, monitoring its performance, and making adjustments as necessary based on market conditions and model forecasts."
   ]
  },
  {
   "cell_type": "markdown",
   "metadata": {},
   "source": [
    "### Conclusion"
   ]
  },
  {
   "cell_type": "markdown",
   "metadata": {},
   "source": [
    "The SARIMA model was able to forecast house prices with a relatively low RMSE compared to the mean house price, indicating a high level of accuracy\n",
    "The time series analysis revealed consistent seasonal patterns in house prices, which were effectively captured by the SARIMA model.\n",
    "\n"
   ]
  }
 ],
 "metadata": {
  "kernelspec": {
   "display_name": "Python 3",
   "language": "python",
   "name": "python3"
  },
  "language_info": {
   "codemirror_mode": {
    "name": "ipython",
    "version": 3
   },
   "file_extension": ".py",
   "mimetype": "text/x-python",
   "name": "python",
   "nbconvert_exporter": "python",
   "pygments_lexer": "ipython3",
   "version": "3.8.5"
  }
 },
 "nbformat": 4,
 "nbformat_minor": 4
}
